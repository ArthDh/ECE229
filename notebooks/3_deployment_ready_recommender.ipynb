{
 "cells": [
  {
   "cell_type": "markdown",
   "metadata": {},
   "source": [
    "## Deployment Ready Recommender Code\n",
    "\n",
    "After dataset curation and model training, we obtained deployment-ready code optimized for the MuseX web application. The deployment version is available as a .py file."
   ]
  },
  {
   "cell_type": "code",
   "execution_count": 2,
   "metadata": {},
   "outputs": [],
   "source": [
    "import pandas as pd\n",
    "import numpy as np\n",
    "from scipy.sparse import csr_matrix\n",
    "from sklearn.metrics.pairwise import cosine_similarity\n",
    "\n",
    "from surprise import SVD\n",
    "from surprise import accuracy\n",
    "from surprise import dump\n",
    "\n",
    "import time\n",
    "\n",
    "# Package Dependencies:\n",
    "# numpy==1.20.3\n",
    "# scikit-surprise==1.1.1\n",
    "# scipy==1.5.4\n",
    "# File dependencies:\n",
    "# songs_pool.csv\n",
    "# SPF_user_song_score.csv\n",
    "# recommender_model_final.pkl\n",
    "\n",
    "def get_user_song_df(saved_songs):\n",
    "    \"\"\"\n",
    "    saved_songs: a list of Spotify song ids for user saved songs\n",
    "    return: a user song preference pd.DataFrame for find_sim_user\n",
    "    \"\"\"\n",
    "    user_data = pd.DataFrame.from_dict({'user_id': ['TEMP' for i in range(len(saved_songs))], 'song_id_SPF': saved_songs, \n",
    "                                        'score': [10 for i in range(len(saved_songs))]})\n",
    "    return user_data\n",
    "    \n",
    "def get_new_songs(saved_songs):\n",
    "    \"\"\"\n",
    "    get a list of tracks the user hasn't liked as the pool of tracks for recommendation\n",
    "    saved_songs: a list of Spotify song ids for user saved songs\n",
    "    return: a list of Spotify song ID\n",
    "    \"\"\"\n",
    "    songs_pool = pd.read_csv('songs_pool.csv').iloc[:,0]\n",
    "    all_songs = set(songs_pool.to_list())\n",
    "    new_songs = list(all_songs - set(saved_songs))\n",
    "    \n",
    "    return new_songs\n",
    "    \n",
    "\n",
    "def get_sim_user(user_data, song_id_user_csv='SPF_user_song_score.csv'):\n",
    "    \"\"\"\n",
    "    user_data: pd.DataFrame with weighted user saved songs\n",
    "    song_id_user_csv: filemane for curated user id - song id - rating dataset\n",
    "    returns: user_id of most similar user in the training set\n",
    "    \"\"\"\n",
    "    num_entries = 800000 # dataset to large to be used in full, has to cap # of entries\n",
    "    df_song_id_user = pd.read_csv(song_id_user_csv).iloc[:num_entries,:10]\n",
    "    df_song_id_user.append(user_data)\n",
    "\n",
    "    song_user = df_song_id_user.pivot(index='user_id', columns='song_id_SPF', values='score').fillna(0)\n",
    "\n",
    "    # obtain a sparse matrix\n",
    "    song_user_mat = csr_matrix(song_user.values)\n",
    "    # calculate pairwise cosine similarity between users based on listening preference\n",
    "    cos_sim = cosine_similarity(song_user_mat)\n",
    "    # get most similar user\n",
    "    sim_score = cos_sim[-1,:-1].max()\n",
    "    user_index = cos_sim[-1,:-1].argmax()\n",
    "    \n",
    "    return song_user.index[user_index], sim_score\n",
    "    \n",
    "\n",
    "def generate_rec_songs(user_id=None, top=20, pool=None, model='recommender_model_final.pkl'):\n",
    "    \"\"\"\n",
    "    user_id: MSD user_id in training set\n",
    "    top: number of songs to recommend\n",
    "    pool: a list of Spotify song ID to recommend from\n",
    "    return: (top_songs, top_scores) a list of top song_ids and a list of predicted ratings(preference) to these songs\n",
    "    \"\"\"\n",
    "    \n",
    "    # load trained collaborative filtering model\n",
    "    (predictions, final_algorithm) = dump.load(model)\n",
    "\n",
    "    top_ten = []\n",
    "    pred_scores = []\n",
    "    for song in pool:\n",
    "        pred = final_algorithm.predict(user_id, song)\n",
    "        pred_scores.append((pred.iid, pred.est))\n",
    "\n",
    "    pred_scores.sort(key=lambda tup: tup[1], reverse=True)\n",
    "    top_songs = [song for song, score in pred_scores[:top]]\n",
    "    top_scores = [score for song, score in pred_scores[:top]]\n",
    "    \n",
    "    return top_songs, top_scores\n",
    "    "
   ]
  },
  {
   "cell_type": "code",
   "execution_count": null,
   "metadata": {
    "scrolled": true
   },
   "outputs": [],
   "source": [
    "import spotipy\n",
    "from spotify_interface import *\n",
    "from spotipy.oauth2 import SpotifyOAuth\n",
    "from spotipy.oauth2 import SpotifyClientCredentials\n",
    "\n",
    "%env SPOTIPY_CLIENT_ID='69cdb7d01ce249819049f54f9fcd6d04'\n",
    "%env SPOTIPY_CLIENT_SECRET='a83bbffc2a724df485e77c9798b65e3a'\n",
    "%env SPOTIPY_REDIRECT_URI='http://127.0.0.1:8090/'\n",
    "\n",
    "username = '3162mvuk5iwnol4qwjc6voyrrpae'\n",
    "scope = \"user-library-read\"\n",
    "redirect_url = 'http://127.0.0.1:5000'\n",
    "client_id = '69cdb7d01ce249819049f54f9fcd6d04'\n",
    "client_secret = 'a83bbffc2a724df485e77c9798b65e3a'\n",
    "\n",
    "# sp = spotipy.Spotify(auth_manager=SpotifyClientCredentials())\n",
    "sp = get_spotify_token(username, scope, redirect_url, client_id, client_secret)\n",
    "\n",
    "sp.track('4puHMOaNsxXs6s45g7NkJI')"
   ]
  },
  {
   "cell_type": "code",
   "execution_count": null,
   "metadata": {},
   "outputs": [],
   "source": [
    "sp.track('4puHMOaNsxXs6s45g7NkJI')"
   ]
  },
  {
   "cell_type": "code",
   "execution_count": 2,
   "metadata": {},
   "outputs": [
    {
     "name": "stdout",
     "output_type": "stream",
     "text": [
      "Most similar user in trainset:  ('0d60bef01b8a0b962f0c962212023cce2ee73ac8', 0.48559712229005425) \n",
      "Time_lapsed:  39.0654726177454\n"
     ]
    }
   ],
   "source": [
    "# create dummy user data: 20 saved song IDs\n",
    "saved_songs = ['4puHMOaNsxXs6s45g7NkJI', '1EGIeHEvMZh3MNkIn2itUy', '1oZYaztSjkVQ7PeKwUbdab', '5YuXkLn4gXk9JYD1del0qR',\n",
    "               '5pWBLvVsEhKiWba3wvYIXB', '2xrNC0YeIdMjXItS1V0QnS', '47XIBIhxwEUX6o0gPMZ2mN', '5yZzLyY9SMI3ZjdqpXWYDp',\n",
    "               '4ZpXHlV2vQVfPXUvbDSZ92', '2LIUQiR8QfZbWT0qOTzBVD', '5h3M1h279xrxl1WtMS71Jb', '5vn6pVxzLeWJweGa9zqxGD',\n",
    "               '2UjGyCvayHjGihV3oLhD8a', '0R8Danl4L4Tq00OiYFygSM', '0AFZnXDUT5qbJboJMZ6zlp', '34tIBWjEV2F27FRz34HhHy',\n",
    "               '3rheINeddqah49dElHlqbZ', '0gOdikUSCMDS90TypUuNbT', '4IZxal0c4bUnY5vn2yR580', '0rT9f5BSZrZ6DvzfBEckG0']\n",
    "user_data = get_user_song_df(saved_songs)\n",
    "\n",
    "# Find most similar user in train datset\n",
    "start = time.perf_counter()\n",
    "\n",
    "sim_user_id = get_sim_user(user_data) \n",
    "\n",
    "end = time.perf_counter()\n",
    "print('Most similar user in trainset: ', sim_user_id, '\\nTime_lapsed: ', end-start)\n"
   ]
  },
  {
   "cell_type": "code",
   "execution_count": 5,
   "metadata": {},
   "outputs": [
    {
     "name": "stdout",
     "output_type": "stream",
     "text": [
      "['3JpzqRcjxif901JZKAPLn6', '5RqKo9P4DLA0bVyY70cWkr', '2hXgZdNNnIOOfXmWDzF05n', '3ExouBnPEYYinN7pS3imZK', '53I7CviVHhNYEKth717RLG', '4T2KvPdG4BZ7Zmw2MpHTcy', '15F4r63NiDNsqFETgtGzoo', '3afeZ81GDy59tATovKyH6Z', '1LPVD9574cuaAmL70FfEqa', '7sKHpszyRFBIAT378e6Tkr', '38YgZVHPWOWsKrsCXz6JyP', '3jCLGbY1yiTKGyDztuHc2j', '2uGDqQsfkKgBH4IsTu23I3', '2mCoPoJKtIoUuqkvTsJs3Z', '5LbLX9SlqtEOnvaIZsiUqd', '4m2RLN7imvsaLL1ZUGfFFw', '6m3Rrv81DPaSPw4azvVUid', '4vqp9GaO7RVkinyrYY5W6R', '7xAoWHiFihACP9v2kJyMxm', '3xpSbo5aiJUhcD1dpWYQ3A']\n",
      "[6.818022442936565, 6.778378636849805, 6.053737396578466, 5.8803146616925, 5.153653336473598, 5.1400221957066705, 5.007889239706664, 4.952775674861218, 4.869618630496209, 4.854786169747419, 4.801219443137677, 4.752101745377255, 4.72915737384187, 4.703328873902105, 4.689196121560688, 4.673797568152525, 4.657363878653149, 4.656706326677075, 4.620231044880466, 4.563310456443027]\n",
      "Songs recommendation finished. \n",
      "Time_lapsed:  17.02789306640625\n"
     ]
    }
   ],
   "source": [
    "# Get top songs recommendations\n",
    "start = time.perf_counter()\n",
    "\n",
    "new_songs = get_new_songs(saved_songs)\n",
    "top_songs, top_scores = generate_rec_songs(user_id=sim_user_id, top=20, pool=new_songs)\n",
    "print(top_songs)\n",
    "print(top_scores)\n",
    "\n",
    "end = time.perf_counter()\n",
    "print('Songs recommendation finished. \\nTime_lapsed: ', end-start)"
   ]
  },
  {
   "cell_type": "code",
   "execution_count": null,
   "metadata": {},
   "outputs": [],
   "source": []
  }
 ],
 "metadata": {
  "kernelspec": {
   "display_name": "Python 3",
   "language": "python",
   "name": "python3"
  },
  "language_info": {
   "codemirror_mode": {
    "name": "ipython",
    "version": 3
   },
   "file_extension": ".py",
   "mimetype": "text/x-python",
   "name": "python",
   "nbconvert_exporter": "python",
   "pygments_lexer": "ipython3",
   "version": "3.7.10"
  }
 },
 "nbformat": 4,
 "nbformat_minor": 4
}

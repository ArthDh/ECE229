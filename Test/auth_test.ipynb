{
 "metadata": {
  "language_info": {
   "codemirror_mode": {
    "name": "ipython",
    "version": 3
   },
   "file_extension": ".py",
   "mimetype": "text/x-python",
   "name": "python",
   "nbconvert_exporter": "python",
   "pygments_lexer": "ipython3",
   "version": "3.8.8-final"
  },
  "orig_nbformat": 2,
  "kernelspec": {
   "name": "ece229",
   "display_name": "ece229",
   "language": "python"
  }
 },
 "nbformat": 4,
 "nbformat_minor": 2,
 "cells": [
  {
   "cell_type": "code",
   "execution_count": 5,
   "metadata": {},
   "outputs": [],
   "source": [
    "import spotipy\n",
    "from dotenv import load_dotenv\n",
    "import pandas as pd\n",
    "import numpy as np"
   ]
  },
  {
   "cell_type": "code",
   "execution_count": 4,
   "metadata": {},
   "outputs": [
    {
     "output_type": "execute_result",
     "data": {
      "text/plain": [
       "True"
      ]
     },
     "metadata": {},
     "execution_count": 4
    }
   ],
   "source": [
    "load_dotenv()"
   ]
  },
  {
   "cell_type": "code",
   "execution_count": 9,
   "metadata": {},
   "outputs": [],
   "source": [
    "    scope = ['ugc-image-upload'\n",
    "            ,'user-read-recently-played'\n",
    "            ,'user-top-read'\n",
    "            ,'user-read-playback-position'\n",
    "            ,'user-read-playback-state'\n",
    "            ,'user-modify-playback-state'\n",
    "            ,'user-read-currently-playing'\n",
    "            ,'app-remote-control'\n",
    "            ,'streaming'\n",
    "            ,'playlist-modify-public'\n",
    "            ,'playlist-modify-private'\n",
    "            ,'playlist-read-private'\n",
    "            ,'playlist-read-collaborative'\n",
    "            ,'user-follow-modify'\n",
    "            ,'user-follow-read'\n",
    "            ,'user-library-modify'\n",
    "            ,'user-library-read'\n",
    "            ,'user-read-email'\n",
    "            ,'user-read-private'\n",
    "            ]\n",
    "\n",
    "\n",
    "    auth_manager = spotipy.oauth2.SpotifyOAuth(scope=scope,\n",
    "                                                show_dialog=True)\n",
    "\n",
    "    # auth_manager.get_access_token(request.args.get(\"code\"))\n",
    "    auth_url = auth_manager.get_authorize_url()\n",
    "    spotify = spotipy.Spotify(auth_manager=auth_manager)\n"
   ]
  },
  {
   "cell_type": "code",
   "execution_count": 115,
   "metadata": {},
   "outputs": [],
   "source": [
    "artists_items = spotify.current_user_top_artists(limit=100, time_range='long_term')['items']"
   ]
  },
  {
   "cell_type": "code",
   "execution_count": 116,
   "metadata": {},
   "outputs": [],
   "source": [
    "temp = pd.DataFrame.from_dict(artists_items)"
   ]
  },
  {
   "cell_type": "code",
   "execution_count": 113,
   "metadata": {},
   "outputs": [],
   "source": [
    "def clean_top_artists(items_df):\n",
    "    '''\n",
    "        \n",
    "    '''\n",
    "\n",
    "    items_df['external_urls'] = temp['external_urls'].map(lambda x: x['spotify'])\n",
    "    items_df['images'] = temp['images'].map(lambda x: x[0]['url'])\n",
    "    items_df['followers'] = temp['followers'].map(lambda x: x['total'])\n",
    "\n",
    "    return items_df"
   ]
  },
  {
   "cell_type": "code",
   "execution_count": 110,
   "metadata": {},
   "outputs": [],
   "source": [
    "temp['external_urls'] = temp['external_urls'].map(lambda x: x['spotify'])\n",
    "temp['images'] = temp['images'].map(lambda x: x[0]['url'])\n",
    "temp['followers'] = temp['followers'].map(lambda x: x['total'])\n",
    "temp.to_csv('top_artists_long.csv')"
   ]
  },
  {
   "cell_type": "code",
   "execution_count": 121,
   "metadata": {},
   "outputs": [
    {
     "output_type": "execute_result",
     "data": {
      "text/plain": [
       "{'album_type': 'ALBUM',\n",
       " 'artists': [{'external_urls': {'spotify': 'https://open.spotify.com/artist/7nQKsOwNp5gENU4Ckw9ddD'},\n",
       "   'href': 'https://api.spotify.com/v1/artists/7nQKsOwNp5gENU4Ckw9ddD',\n",
       "   'id': '7nQKsOwNp5gENU4Ckw9ddD',\n",
       "   'name': 'CT Fletcher',\n",
       "   'type': 'artist',\n",
       "   'uri': 'spotify:artist:7nQKsOwNp5gENU4Ckw9ddD'}],\n",
       " 'available_markets': ['AD',\n",
       "  'AE',\n",
       "  'AR',\n",
       "  'AT',\n",
       "  'AU',\n",
       "  'BE',\n",
       "  'BG',\n",
       "  'BH',\n",
       "  'BO',\n",
       "  'BR',\n",
       "  'CA',\n",
       "  'CH',\n",
       "  'CL',\n",
       "  'CO',\n",
       "  'CR',\n",
       "  'CY',\n",
       "  'CZ',\n",
       "  'DE',\n",
       "  'DK',\n",
       "  'DO',\n",
       "  'DZ',\n",
       "  'EC',\n",
       "  'EE',\n",
       "  'EG',\n",
       "  'ES',\n",
       "  'FI',\n",
       "  'FR',\n",
       "  'GB',\n",
       "  'GR',\n",
       "  'GT',\n",
       "  'HK',\n",
       "  'HN',\n",
       "  'HU',\n",
       "  'ID',\n",
       "  'IE',\n",
       "  'IL',\n",
       "  'IN',\n",
       "  'IS',\n",
       "  'IT',\n",
       "  'JO',\n",
       "  'JP',\n",
       "  'KW',\n",
       "  'LB',\n",
       "  'LI',\n",
       "  'LT',\n",
       "  'LU',\n",
       "  'LV',\n",
       "  'MA',\n",
       "  'MC',\n",
       "  'MT',\n",
       "  'MX',\n",
       "  'MY',\n",
       "  'NI',\n",
       "  'NL',\n",
       "  'NO',\n",
       "  'NZ',\n",
       "  'OM',\n",
       "  'PA',\n",
       "  'PE',\n",
       "  'PH',\n",
       "  'PL',\n",
       "  'PT',\n",
       "  'PY',\n",
       "  'QA',\n",
       "  'RO',\n",
       "  'SA',\n",
       "  'SE',\n",
       "  'SG',\n",
       "  'SK',\n",
       "  'SV',\n",
       "  'TH',\n",
       "  'TN',\n",
       "  'TR',\n",
       "  'TW',\n",
       "  'US',\n",
       "  'UY',\n",
       "  'VN',\n",
       "  'ZA'],\n",
       " 'external_urls': {'spotify': 'https://open.spotify.com/album/6DLfiEm7vOy8Jw8gw1Ap0G'},\n",
       " 'href': 'https://api.spotify.com/v1/albums/6DLfiEm7vOy8Jw8gw1Ap0G',\n",
       " 'id': '6DLfiEm7vOy8Jw8gw1Ap0G',\n",
       " 'images': [{'height': 640,\n",
       "   'url': 'https://i.scdn.co/image/ab67616d0000b2730ffd8110d5fb5a2f78fcf361',\n",
       "   'width': 640},\n",
       "  {'height': 300,\n",
       "   'url': 'https://i.scdn.co/image/ab67616d00001e020ffd8110d5fb5a2f78fcf361',\n",
       "   'width': 300},\n",
       "  {'height': 64,\n",
       "   'url': 'https://i.scdn.co/image/ab67616d000048510ffd8110d5fb5a2f78fcf361',\n",
       "   'width': 64}],\n",
       " 'name': 'Sleeve Busters Union',\n",
       " 'release_date': '2015-08-04',\n",
       " 'release_date_precision': 'day',\n",
       " 'total_tracks': 12,\n",
       " 'type': 'album',\n",
       " 'uri': 'spotify:album:6DLfiEm7vOy8Jw8gw1Ap0G'}"
      ]
     },
     "metadata": {},
     "execution_count": 121
    }
   ],
   "source": [
    "spotify.current_user_top_tracks()['items'][0]['album']"
   ]
  },
  {
   "cell_type": "code",
   "execution_count": 123,
   "metadata": {},
   "outputs": [
    {
     "output_type": "execute_result",
     "data": {
      "text/plain": [
       "[{'external_urls': {'spotify': 'https://open.spotify.com/artist/7nQKsOwNp5gENU4Ckw9ddD'},\n",
       "  'href': 'https://api.spotify.com/v1/artists/7nQKsOwNp5gENU4Ckw9ddD',\n",
       "  'id': '7nQKsOwNp5gENU4Ckw9ddD',\n",
       "  'name': 'CT Fletcher',\n",
       "  'type': 'artist',\n",
       "  'uri': 'spotify:artist:7nQKsOwNp5gENU4Ckw9ddD'}]"
      ]
     },
     "metadata": {},
     "execution_count": 123
    }
   ],
   "source": [
    "spotify.current_user_top_tracks()['items'][0]['artists']"
   ]
  },
  {
   "cell_type": "code",
   "execution_count": 124,
   "metadata": {},
   "outputs": [
    {
     "output_type": "execute_result",
     "data": {
      "text/plain": [
       "dict_keys(['album', 'artists', 'available_markets', 'disc_number', 'duration_ms', 'explicit', 'external_ids', 'external_urls', 'href', 'id', 'is_local', 'name', 'popularity', 'preview_url', 'track_number', 'type', 'uri'])"
      ]
     },
     "metadata": {},
     "execution_count": 124
    }
   ],
   "source": [
    "spotify.current_user_top_tracks()['items'][0].keys()"
   ]
  },
  {
   "cell_type": "code",
   "execution_count": 125,
   "metadata": {},
   "outputs": [],
   "source": [
    "track_items =spotify.current_user_top_tracks()['items']"
   ]
  },
  {
   "cell_type": "code",
   "execution_count": 128,
   "metadata": {},
   "outputs": [],
   "source": [
    "temp = pd.DataFrame.from_dict(track_items)"
   ]
  },
  {
   "cell_type": "code",
   "execution_count": 139,
   "metadata": {},
   "outputs": [
    {
     "output_type": "execute_result",
     "data": {
      "text/plain": [
       "                                               album  \\\n",
       "0  {'album_type': 'ALBUM', 'artists': [{'external...   \n",
       "1  {'album_type': 'ALBUM', 'artists': [{'external...   \n",
       "2  {'album_type': 'ALBUM', 'artists': [{'external...   \n",
       "3  {'album_type': 'ALBUM', 'artists': [{'external...   \n",
       "4  {'album_type': 'SINGLE', 'artists': [{'externa...   \n",
       "5  {'album_type': 'ALBUM', 'artists': [{'external...   \n",
       "\n",
       "                                             artists  \\\n",
       "0  [{'external_urls': {'spotify': 'https://open.s...   \n",
       "1  [{'external_urls': {'spotify': 'https://open.s...   \n",
       "2  [{'external_urls': {'spotify': 'https://open.s...   \n",
       "3  [{'external_urls': {'spotify': 'https://open.s...   \n",
       "4  [{'external_urls': {'spotify': 'https://open.s...   \n",
       "5  [{'external_urls': {'spotify': 'https://open.s...   \n",
       "\n",
       "                                   available_markets  disc_number  \\\n",
       "0  [AD, AE, AR, AT, AU, BE, BG, BH, BO, BR, CA, C...            1   \n",
       "1  [AD, AE, AR, AT, AU, BE, BG, BH, BO, BR, CA, C...            1   \n",
       "2  [AD, AE, AR, AT, AU, BE, BG, BH, BO, BR, CA, C...            1   \n",
       "3  [AD, AE, AR, AT, AU, BE, BG, BH, BO, BR, CA, C...            2   \n",
       "4  [AD, AE, AR, AT, AU, BE, BG, BH, BO, BR, CA, C...            1   \n",
       "5  [AD, AE, AR, AT, AU, BE, BG, BH, BO, BR, CA, C...            1   \n",
       "\n",
       "   duration_ms  explicit              external_ids  \\\n",
       "0       166896      True  {'isrc': 'US3DF1602912'}   \n",
       "1       306431     False  {'isrc': 'QMQTM1500473'}   \n",
       "2       120480      True  {'isrc': 'US3DF1602911'}   \n",
       "3       159512     False  {'isrc': 'USUG11600374'}   \n",
       "4       118571     False  {'isrc': 'QM24S2100336'}   \n",
       "5       180053     False  {'isrc': 'USSM12002051'}   \n",
       "\n",
       "                                       external_urls  \\\n",
       "0  {'spotify': 'https://open.spotify.com/track/33...   \n",
       "1  {'spotify': 'https://open.spotify.com/track/0H...   \n",
       "2  {'spotify': 'https://open.spotify.com/track/0P...   \n",
       "3  {'spotify': 'https://open.spotify.com/track/0Z...   \n",
       "4  {'spotify': 'https://open.spotify.com/track/5Q...   \n",
       "5  {'spotify': 'https://open.spotify.com/track/4C...   \n",
       "\n",
       "                                                href                      id  \\\n",
       "0  https://api.spotify.com/v1/tracks/334ddOVtCHm6...  334ddOVtCHm6FlifbA6bKF   \n",
       "1  https://api.spotify.com/v1/tracks/0HBYptBUJX7N...  0HBYptBUJX7NBm82ogaw1y   \n",
       "2  https://api.spotify.com/v1/tracks/0PSWclszGNAB...  0PSWclszGNABEONvVZ3R9o   \n",
       "3  https://api.spotify.com/v1/tracks/0ZAiqymvbQUZ...  0ZAiqymvbQUZAh9y6ZT3Rm   \n",
       "4  https://api.spotify.com/v1/tracks/5QGHOeBYDauP...  5QGHOeBYDauPtC8yYD3wZZ   \n",
       "5  https://api.spotify.com/v1/tracks/4CxmynXhw78Q...  4CxmynXhw78QefruycvxG8   \n",
       "\n",
       "   is_local                          name  popularity  \\\n",
       "0     False                  F*Ck Average          37   \n",
       "1     False                    Beast Mode          40   \n",
       "2     False                   Pre-Workout          36   \n",
       "3     False                            XO          72   \n",
       "4     False              Parallel Parking          64   \n",
       "5     False  Coffee (feat. Marc E. Bassy)          69   \n",
       "\n",
       "                                         preview_url  track_number   type  \\\n",
       "0  https://p.scdn.co/mp3-preview/7da7f1db6ee742e4...             2  track   \n",
       "1  https://p.scdn.co/mp3-preview/059fbfbf5230bb7a...             6  track   \n",
       "2  https://p.scdn.co/mp3-preview/cd9b53c289f6bed1...             1  track   \n",
       "3                                               None             2  track   \n",
       "4  https://p.scdn.co/mp3-preview/b94bdb35917c625b...             1  track   \n",
       "5  https://p.scdn.co/mp3-preview/5a2101969adeb008...             5  track   \n",
       "\n",
       "                                    uri  \n",
       "0  spotify:track:334ddOVtCHm6FlifbA6bKF  \n",
       "1  spotify:track:0HBYptBUJX7NBm82ogaw1y  \n",
       "2  spotify:track:0PSWclszGNABEONvVZ3R9o  \n",
       "3  spotify:track:0ZAiqymvbQUZAh9y6ZT3Rm  \n",
       "4  spotify:track:5QGHOeBYDauPtC8yYD3wZZ  \n",
       "5  spotify:track:4CxmynXhw78QefruycvxG8  "
      ],
      "text/html": "<div>\n<style scoped>\n    .dataframe tbody tr th:only-of-type {\n        vertical-align: middle;\n    }\n\n    .dataframe tbody tr th {\n        vertical-align: top;\n    }\n\n    .dataframe thead th {\n        text-align: right;\n    }\n</style>\n<table border=\"1\" class=\"dataframe\">\n  <thead>\n    <tr style=\"text-align: right;\">\n      <th></th>\n      <th>album</th>\n      <th>artists</th>\n      <th>available_markets</th>\n      <th>disc_number</th>\n      <th>duration_ms</th>\n      <th>explicit</th>\n      <th>external_ids</th>\n      <th>external_urls</th>\n      <th>href</th>\n      <th>id</th>\n      <th>is_local</th>\n      <th>name</th>\n      <th>popularity</th>\n      <th>preview_url</th>\n      <th>track_number</th>\n      <th>type</th>\n      <th>uri</th>\n    </tr>\n  </thead>\n  <tbody>\n    <tr>\n      <th>0</th>\n      <td>{'album_type': 'ALBUM', 'artists': [{'external...</td>\n      <td>[{'external_urls': {'spotify': 'https://open.s...</td>\n      <td>[AD, AE, AR, AT, AU, BE, BG, BH, BO, BR, CA, C...</td>\n      <td>1</td>\n      <td>166896</td>\n      <td>True</td>\n      <td>{'isrc': 'US3DF1602912'}</td>\n      <td>{'spotify': 'https://open.spotify.com/track/33...</td>\n      <td>https://api.spotify.com/v1/tracks/334ddOVtCHm6...</td>\n      <td>334ddOVtCHm6FlifbA6bKF</td>\n      <td>False</td>\n      <td>F*Ck Average</td>\n      <td>37</td>\n      <td>https://p.scdn.co/mp3-preview/7da7f1db6ee742e4...</td>\n      <td>2</td>\n      <td>track</td>\n      <td>spotify:track:334ddOVtCHm6FlifbA6bKF</td>\n    </tr>\n    <tr>\n      <th>1</th>\n      <td>{'album_type': 'ALBUM', 'artists': [{'external...</td>\n      <td>[{'external_urls': {'spotify': 'https://open.s...</td>\n      <td>[AD, AE, AR, AT, AU, BE, BG, BH, BO, BR, CA, C...</td>\n      <td>1</td>\n      <td>306431</td>\n      <td>False</td>\n      <td>{'isrc': 'QMQTM1500473'}</td>\n      <td>{'spotify': 'https://open.spotify.com/track/0H...</td>\n      <td>https://api.spotify.com/v1/tracks/0HBYptBUJX7N...</td>\n      <td>0HBYptBUJX7NBm82ogaw1y</td>\n      <td>False</td>\n      <td>Beast Mode</td>\n      <td>40</td>\n      <td>https://p.scdn.co/mp3-preview/059fbfbf5230bb7a...</td>\n      <td>6</td>\n      <td>track</td>\n      <td>spotify:track:0HBYptBUJX7NBm82ogaw1y</td>\n    </tr>\n    <tr>\n      <th>2</th>\n      <td>{'album_type': 'ALBUM', 'artists': [{'external...</td>\n      <td>[{'external_urls': {'spotify': 'https://open.s...</td>\n      <td>[AD, AE, AR, AT, AU, BE, BG, BH, BO, BR, CA, C...</td>\n      <td>1</td>\n      <td>120480</td>\n      <td>True</td>\n      <td>{'isrc': 'US3DF1602911'}</td>\n      <td>{'spotify': 'https://open.spotify.com/track/0P...</td>\n      <td>https://api.spotify.com/v1/tracks/0PSWclszGNAB...</td>\n      <td>0PSWclszGNABEONvVZ3R9o</td>\n      <td>False</td>\n      <td>Pre-Workout</td>\n      <td>36</td>\n      <td>https://p.scdn.co/mp3-preview/cd9b53c289f6bed1...</td>\n      <td>1</td>\n      <td>track</td>\n      <td>spotify:track:0PSWclszGNABEONvVZ3R9o</td>\n    </tr>\n    <tr>\n      <th>3</th>\n      <td>{'album_type': 'ALBUM', 'artists': [{'external...</td>\n      <td>[{'external_urls': {'spotify': 'https://open.s...</td>\n      <td>[AD, AE, AR, AT, AU, BE, BG, BH, BO, BR, CA, C...</td>\n      <td>2</td>\n      <td>159512</td>\n      <td>False</td>\n      <td>{'isrc': 'USUG11600374'}</td>\n      <td>{'spotify': 'https://open.spotify.com/track/0Z...</td>\n      <td>https://api.spotify.com/v1/tracks/0ZAiqymvbQUZ...</td>\n      <td>0ZAiqymvbQUZAh9y6ZT3Rm</td>\n      <td>False</td>\n      <td>XO</td>\n      <td>72</td>\n      <td>None</td>\n      <td>2</td>\n      <td>track</td>\n      <td>spotify:track:0ZAiqymvbQUZAh9y6ZT3Rm</td>\n    </tr>\n    <tr>\n      <th>4</th>\n      <td>{'album_type': 'SINGLE', 'artists': [{'externa...</td>\n      <td>[{'external_urls': {'spotify': 'https://open.s...</td>\n      <td>[AD, AE, AR, AT, AU, BE, BG, BH, BO, BR, CA, C...</td>\n      <td>1</td>\n      <td>118571</td>\n      <td>False</td>\n      <td>{'isrc': 'QM24S2100336'}</td>\n      <td>{'spotify': 'https://open.spotify.com/track/5Q...</td>\n      <td>https://api.spotify.com/v1/tracks/5QGHOeBYDauP...</td>\n      <td>5QGHOeBYDauPtC8yYD3wZZ</td>\n      <td>False</td>\n      <td>Parallel Parking</td>\n      <td>64</td>\n      <td>https://p.scdn.co/mp3-preview/b94bdb35917c625b...</td>\n      <td>1</td>\n      <td>track</td>\n      <td>spotify:track:5QGHOeBYDauPtC8yYD3wZZ</td>\n    </tr>\n    <tr>\n      <th>5</th>\n      <td>{'album_type': 'ALBUM', 'artists': [{'external...</td>\n      <td>[{'external_urls': {'spotify': 'https://open.s...</td>\n      <td>[AD, AE, AR, AT, AU, BE, BG, BH, BO, BR, CA, C...</td>\n      <td>1</td>\n      <td>180053</td>\n      <td>False</td>\n      <td>{'isrc': 'USSM12002051'}</td>\n      <td>{'spotify': 'https://open.spotify.com/track/4C...</td>\n      <td>https://api.spotify.com/v1/tracks/4CxmynXhw78Q...</td>\n      <td>4CxmynXhw78QefruycvxG8</td>\n      <td>False</td>\n      <td>Coffee (feat. Marc E. Bassy)</td>\n      <td>69</td>\n      <td>https://p.scdn.co/mp3-preview/5a2101969adeb008...</td>\n      <td>5</td>\n      <td>track</td>\n      <td>spotify:track:4CxmynXhw78QefruycvxG8</td>\n    </tr>\n  </tbody>\n</table>\n</div>"
     },
     "metadata": {},
     "execution_count": 139
    }
   ],
   "source": [
    "temp.head(6)"
   ]
  },
  {
   "cell_type": "code",
   "execution_count": 137,
   "metadata": {},
   "outputs": [
    {
     "output_type": "execute_result",
     "data": {
      "text/plain": [
       "{'album_type': 'ALBUM',\n",
       " 'artists': [{'external_urls': {'spotify': 'https://open.spotify.com/artist/3ApUX1o6oSz321MMECyIYd'},\n",
       "   'href': 'https://api.spotify.com/v1/artists/3ApUX1o6oSz321MMECyIYd',\n",
       "   'id': '3ApUX1o6oSz321MMECyIYd',\n",
       "   'name': 'Quinn XCII',\n",
       "   'type': 'artist',\n",
       "   'uri': 'spotify:artist:3ApUX1o6oSz321MMECyIYd'}],\n",
       " 'available_markets': ['AD',\n",
       "  'AE',\n",
       "  'AR',\n",
       "  'AT',\n",
       "  'AU',\n",
       "  'BE',\n",
       "  'BG',\n",
       "  'BH',\n",
       "  'BO',\n",
       "  'BR',\n",
       "  'CA',\n",
       "  'CH',\n",
       "  'CL',\n",
       "  'CO',\n",
       "  'CR',\n",
       "  'CY',\n",
       "  'CZ',\n",
       "  'DE',\n",
       "  'DK',\n",
       "  'DO',\n",
       "  'DZ',\n",
       "  'EC',\n",
       "  'EE',\n",
       "  'EG',\n",
       "  'ES',\n",
       "  'FI',\n",
       "  'FR',\n",
       "  'GB',\n",
       "  'GR',\n",
       "  'GT',\n",
       "  'HK',\n",
       "  'HN',\n",
       "  'HU',\n",
       "  'ID',\n",
       "  'IE',\n",
       "  'IL',\n",
       "  'IN',\n",
       "  'IS',\n",
       "  'IT',\n",
       "  'JO',\n",
       "  'JP',\n",
       "  'KW',\n",
       "  'LB',\n",
       "  'LI',\n",
       "  'LT',\n",
       "  'LU',\n",
       "  'LV',\n",
       "  'MA',\n",
       "  'MC',\n",
       "  'MT',\n",
       "  'MX',\n",
       "  'MY',\n",
       "  'NI',\n",
       "  'NL',\n",
       "  'NO',\n",
       "  'NZ',\n",
       "  'OM',\n",
       "  'PA',\n",
       "  'PE',\n",
       "  'PH',\n",
       "  'PL',\n",
       "  'PS',\n",
       "  'PT',\n",
       "  'PY',\n",
       "  'QA',\n",
       "  'RO',\n",
       "  'SA',\n",
       "  'SE',\n",
       "  'SG',\n",
       "  'SK',\n",
       "  'SV',\n",
       "  'TH',\n",
       "  'TN',\n",
       "  'TR',\n",
       "  'TW',\n",
       "  'US',\n",
       "  'UY',\n",
       "  'VN',\n",
       "  'ZA'],\n",
       " 'external_urls': {'spotify': 'https://open.spotify.com/album/1dVw3jSdgZp7PfGhCEo32t'},\n",
       " 'href': 'https://api.spotify.com/v1/albums/1dVw3jSdgZp7PfGhCEo32t',\n",
       " 'id': '1dVw3jSdgZp7PfGhCEo32t',\n",
       " 'images': [{'height': 640,\n",
       "   'url': 'https://i.scdn.co/image/ab67616d0000b273f83dbc7461aefc08696811c0',\n",
       "   'width': 640},\n",
       "  {'height': 300,\n",
       "   'url': 'https://i.scdn.co/image/ab67616d00001e02f83dbc7461aefc08696811c0',\n",
       "   'width': 300},\n",
       "  {'height': 64,\n",
       "   'url': 'https://i.scdn.co/image/ab67616d00004851f83dbc7461aefc08696811c0',\n",
       "   'width': 64}],\n",
       " 'name': 'A Letter To My Younger Self',\n",
       " 'release_date': '2020-07-10',\n",
       " 'release_date_precision': 'day',\n",
       " 'total_tracks': 12,\n",
       " 'type': 'album',\n",
       " 'uri': 'spotify:album:1dVw3jSdgZp7PfGhCEo32t'}"
      ]
     },
     "metadata": {},
     "execution_count": 137
    }
   ],
   "source": [
    "temp['album'][5]"
   ]
  },
  {
   "cell_type": "code",
   "execution_count": 138,
   "metadata": {},
   "outputs": [
    {
     "output_type": "execute_result",
     "data": {
      "text/plain": [
       "[{'external_urls': {'spotify': 'https://open.spotify.com/artist/3ApUX1o6oSz321MMECyIYd'},\n",
       "  'href': 'https://api.spotify.com/v1/artists/3ApUX1o6oSz321MMECyIYd',\n",
       "  'id': '3ApUX1o6oSz321MMECyIYd',\n",
       "  'name': 'Quinn XCII',\n",
       "  'type': 'artist',\n",
       "  'uri': 'spotify:artist:3ApUX1o6oSz321MMECyIYd'},\n",
       " {'external_urls': {'spotify': 'https://open.spotify.com/artist/3tQx1LPXbsYjE9VwN1Peaa'},\n",
       "  'href': 'https://api.spotify.com/v1/artists/3tQx1LPXbsYjE9VwN1Peaa',\n",
       "  'id': '3tQx1LPXbsYjE9VwN1Peaa',\n",
       "  'name': 'Marc E. Bassy',\n",
       "  'type': 'artist',\n",
       "  'uri': 'spotify:artist:3tQx1LPXbsYjE9VwN1Peaa'}]"
      ]
     },
     "metadata": {},
     "execution_count": 138
    }
   ],
   "source": [
    "temp['artists'][5]"
   ]
  },
  {
   "cell_type": "code",
   "execution_count": null,
   "metadata": {},
   "outputs": [],
   "source": []
  }
 ]
}
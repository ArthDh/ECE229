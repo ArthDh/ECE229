{
 "metadata": {
  "language_info": {
   "codemirror_mode": {
    "name": "ipython",
    "version": 3
   },
   "file_extension": ".py",
   "mimetype": "text/x-python",
   "name": "python",
   "nbconvert_exporter": "python",
   "pygments_lexer": "ipython3",
   "version": "3.8.8-final"
  },
  "orig_nbformat": 2,
  "kernelspec": {
   "name": "ece229",
   "display_name": "ece229",
   "language": "python"
  }
 },
 "nbformat": 4,
 "nbformat_minor": 2,
 "cells": [
  {
   "cell_type": "code",
   "execution_count": 5,
   "metadata": {},
   "outputs": [],
   "source": [
    "import spotipy\n",
    "from dotenv import load_dotenv\n",
    "import pandas as pd\n",
    "import numpy as np"
   ]
  },
  {
   "cell_type": "code",
   "execution_count": 4,
   "metadata": {},
   "outputs": [
    {
     "output_type": "execute_result",
     "data": {
      "text/plain": [
       "True"
      ]
     },
     "metadata": {},
     "execution_count": 4
    }
   ],
   "source": [
    "load_dotenv()"
   ]
  },
  {
   "cell_type": "code",
   "execution_count": 9,
   "metadata": {},
   "outputs": [],
   "source": [
    "    scope = ['ugc-image-upload'\n",
    "            ,'user-read-recently-played'\n",
    "            ,'user-top-read'\n",
    "            ,'user-read-playback-position'\n",
    "            ,'user-read-playback-state'\n",
    "            ,'user-modify-playback-state'\n",
    "            ,'user-read-currently-playing'\n",
    "            ,'app-remote-control'\n",
    "            ,'streaming'\n",
    "            ,'playlist-modify-public'\n",
    "            ,'playlist-modify-private'\n",
    "            ,'playlist-read-private'\n",
    "            ,'playlist-read-collaborative'\n",
    "            ,'user-follow-modify'\n",
    "            ,'user-follow-read'\n",
    "            ,'user-library-modify'\n",
    "            ,'user-library-read'\n",
    "            ,'user-read-email'\n",
    "            ,'user-read-private'\n",
    "            ]\n",
    "\n",
    "\n",
    "    auth_manager = spotipy.oauth2.SpotifyOAuth(scope=scope,\n",
    "                                                show_dialog=True)\n",
    "\n",
    "    # auth_manager.get_access_token(request.args.get(\"code\"))\n",
    "    auth_url = auth_manager.get_authorize_url()\n",
    "    spotify = spotipy.Spotify(auth_manager=auth_manager)\n"
   ]
  },
  {
   "cell_type": "code",
   "execution_count": 115,
   "metadata": {},
   "outputs": [],
   "source": [
    "artists_items = spotify.current_user_top_artists(limit=100, time_range='long_term')['items']"
   ]
  },
  {
   "cell_type": "code",
   "execution_count": 116,
   "metadata": {},
   "outputs": [],
   "source": [
    "temp = pd.DataFrame.from_dict(artists_items)"
   ]
  },
  {
   "cell_type": "code",
   "execution_count": 113,
   "metadata": {},
   "outputs": [],
   "source": [
    "def clean_top_artists(items_df):\n",
    "    '''\n",
    "        \n",
    "    '''\n",
    "\n",
    "    items_df['external_urls'] = temp['external_urls'].map(lambda x: x['spotify'])\n",
    "    items_df['images'] = temp['images'].map(lambda x: x[0]['url'])\n",
    "    items_df['followers'] = temp['followers'].map(lambda x: x['total'])\n",
    "\n",
    "    return items_df"
   ]
  },
  {
   "cell_type": "code",
   "execution_count": 169,
   "metadata": {},
   "outputs": [],
   "source": [
    "def clean_top_tracks(tracks_df):\n",
    "    '''\n",
    "        \n",
    "    '''\n",
    "    tracks_df['album_name'] = temp['album'].map(lambda x:x['name'])\n",
    "    tracks_df['album_art'] = temp['album'].map(lambda x:x['images'][0]['url'])\n",
    "    tracks_df['album_href'] = temp['album'].map(lambda x:x['href'])\n",
    "    tracks_df['album_release_date'] = temp['album'].map(lambda x:x['release_date'])\n",
    "\n",
    "    tracks_df['artist_names'] = temp['artists'].map(lambda x: ', '.join([a['name'] for a in x]))\n",
    "\n",
    "    drop_cols = ['album', 'artists', 'available_markets', 'disc_number', 'external_ids', 'is_local', 'external_urls', 'track_number']\n",
    "    tracks_df = tracks_df.drop(drop_cols, axis=1)\n",
    "\n",
    "    return tracks_df"
   ]
  },
  {
   "cell_type": "code",
   "execution_count": 192,
   "metadata": {},
   "outputs": [],
   "source": [
    "term = 'short'"
   ]
  },
  {
   "cell_type": "code",
   "execution_count": 193,
   "metadata": {},
   "outputs": [],
   "source": [
    "track_items =spotify.current_user_top_tracks(limit=100, time_range=f'{term}_term')['items']"
   ]
  },
  {
   "cell_type": "code",
   "execution_count": 194,
   "metadata": {},
   "outputs": [],
   "source": [
    "temp = pd.DataFrame.from_dict(track_items)"
   ]
  },
  {
   "cell_type": "code",
   "execution_count": 195,
   "metadata": {},
   "outputs": [],
   "source": [
    "temp_df = clean_top_tracks(temp)"
   ]
  },
  {
   "cell_type": "code",
   "execution_count": 196,
   "metadata": {},
   "outputs": [
    {
     "output_type": "execute_result",
     "data": {
      "text/plain": [
       "50"
      ]
     },
     "metadata": {},
     "execution_count": 196
    }
   ],
   "source": [
    "len(temp_df)"
   ]
  },
  {
   "cell_type": "code",
   "execution_count": 197,
   "metadata": {},
   "outputs": [],
   "source": [
    "temp_df.to_csv(f'top_tracks_{term}.csv')"
   ]
  },
  {
   "cell_type": "code",
   "execution_count": null,
   "metadata": {},
   "outputs": [],
   "source": []
  }
 ]
}
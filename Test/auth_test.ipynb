{
 "metadata": {
  "language_info": {
   "codemirror_mode": {
    "name": "ipython",
    "version": 3
   },
   "file_extension": ".py",
   "mimetype": "text/x-python",
   "name": "python",
   "nbconvert_exporter": "python",
   "pygments_lexer": "ipython3",
   "version": "3.8.8"
  },
  "orig_nbformat": 2,
  "kernelspec": {
   "name": "ece229",
   "display_name": "ece229",
   "language": "python"
  }
 },
 "nbformat": 4,
 "nbformat_minor": 2,
 "cells": [
  {
   "cell_type": "code",
   "execution_count": 10,
   "metadata": {},
   "outputs": [],
   "source": [
    "import spotipy\n",
    "from dotenv import load_dotenv\n",
    "import pandas as pd\n",
    "import numpy as np"
   ]
  },
  {
   "cell_type": "code",
   "execution_count": 11,
   "metadata": {},
   "outputs": [
    {
     "output_type": "execute_result",
     "data": {
      "text/plain": [
       "True"
      ]
     },
     "metadata": {},
     "execution_count": 11
    }
   ],
   "source": [
    "load_dotenv()"
   ]
  },
  {
   "cell_type": "code",
   "execution_count": 12,
   "metadata": {},
   "outputs": [],
   "source": [
    "scope = ['ugc-image-upload'\n",
    "        ,'user-read-recently-played'\n",
    "        ,'user-top-read'\n",
    "        ,'user-read-playback-position'\n",
    "        ,'user-read-playback-state'\n",
    "        ,'user-modify-playback-state'\n",
    "        ,'user-read-currently-playing'\n",
    "        ,'app-remote-control'\n",
    "        ,'streaming'\n",
    "        ,'playlist-modify-public'\n",
    "        ,'playlist-modify-private'\n",
    "        ,'playlist-read-private'\n",
    "        ,'playlist-read-collaborative'\n",
    "        ,'user-follow-modify'\n",
    "        ,'user-follow-read'\n",
    "        ,'user-library-modify'\n",
    "        ,'user-library-read'\n",
    "        ,'user-read-email'\n",
    "        ,'user-read-private'\n",
    "        ]\n",
    "\n",
    "\n",
    "auth_manager = spotipy.oauth2.SpotifyOAuth(scope=scope,\n",
    "                                            show_dialog=True)\n",
    "\n",
    "# auth_manager.get_access_token(request.args.get(\"code\"))\n",
    "auth_url = auth_manager.get_authorize_url()\n",
    "spotify = spotipy.Spotify(auth_manager=auth_manager)\n"
   ]
  },
  {
   "cell_type": "code",
   "execution_count": 13,
   "metadata": {},
   "outputs": [],
   "source": [
    "artists_items = spotify.current_user_top_artists(limit=100, time_range='long_term')['items']"
   ]
  },
  {
   "cell_type": "code",
   "execution_count": 116,
   "metadata": {},
   "outputs": [],
   "source": [
    "temp = pd.DataFrame.from_dict(artists_items)"
   ]
  },
  {
   "cell_type": "code",
   "execution_count": 21,
   "metadata": {},
   "outputs": [],
   "source": [
    "def clean_top_artists(items_df):\n",
    "    '''\n",
    "        \n",
    "    '''\n",
    "\n",
    "    items_df['external_urls'] = temp['external_urls'].map(lambda x: x['spotify'])\n",
    "    items_df['images'] = temp['images'].map(lambda x: x[0]['url'])\n",
    "    items_df['followers'] = temp['followers'].map(lambda x: x['total'])\n",
    "\n",
    "    return items_df"
   ]
  },
  {
   "cell_type": "code",
   "execution_count": 87,
   "metadata": {},
   "outputs": [],
   "source": [
    "def clean_top_tracks(tracks_df):\n",
    "    '''\n",
    "        \n",
    "    '''\n",
    "    tracks_df['album_name'] = temp['album'].map(lambda x:x['name'])\n",
    "    tracks_df['album_art'] = temp['album'].map(lambda x:x['images'][0]['url'])\n",
    "    tracks_df['album_href'] = temp['album'].map(lambda x:x['href'])\n",
    "    tracks_df['album_release_date'] = temp['album'].map(lambda x:x['release_date'])\n",
    "\n",
    "    tracks_df['artist_names'] = temp['artists'].map(lambda x: ', '.join([a['name'] for a in x]))\n",
    "\n",
    "    drop_cols = ['album', 'artists', 'available_markets', 'disc_number', 'external_ids', 'is_local', 'external_urls',\\\n",
    "                 'track_number', 'duration_ms', 'episode', 'track', 'uri',\\\n",
    "                     'preview_url', 'type',\t'album_name', 'album_href','album_release_date' ]\n",
    "    tracks_df = tracks_df.drop(drop_cols, axis=1)\n",
    "\n",
    "    return tracks_df"
   ]
  },
  {
   "cell_type": "code",
   "execution_count": 73,
   "metadata": {},
   "outputs": [],
   "source": [
    "def clean_playlist(user_playlists, playlist):\n",
    "    '''\n",
    "\n",
    "    '''\n",
    "\n",
    "    filter_playlist = [i for i in spotify.current_user_playlists()['items'] if i['name']==playlist_name][0]\n",
    "    filter_id = filter_playlist['id']\n",
    "    playlist_filter_id = spotify.playlist(filter_id)\n",
    "    playlist_tracks = playlist_filter_id['tracks']\n",
    "    list_tracks = [playlist_tracks['items'][i]['track'] for i in range(filter_playlist['tracks']['total'])]\n",
    "    temp = pd.DataFrame.from_dict(list_tracks)\n",
    "    temp_df = clean_top_tracks(temp)\n",
    "\n",
    "    return temp_df"
   ]
  },
  {
   "cell_type": "code",
   "execution_count": 72,
   "metadata": {},
   "outputs": [],
   "source": [
    "def audio_playlist_features(playlist_df):\n",
    "    '''\n",
    "\n",
    "    '''\n",
    "    df = pd.DataFrame.from_dict([spotify.audio_features(playlist_df['id'][i])[0] for i in range(len(playlist_df))])\n",
    "    drop_cols = ['analysis_url', 'duration_ms', 'time_signature', 'uri', 'track_href', 'type']\n",
    "    audio_df = df.drop(drop_cols, axis=1)\n",
    "\n",
    "    return audio_df"
   ]
  },
  {
   "cell_type": "code",
   "execution_count": 192,
   "metadata": {},
   "outputs": [],
   "source": [
    "term = 'short'"
   ]
  },
  {
   "cell_type": "code",
   "execution_count": 193,
   "metadata": {},
   "outputs": [],
   "source": [
    "track_items =spotify.current_user_top_tracks(limit=100, time_range=f'{term}_term')['items']"
   ]
  },
  {
   "cell_type": "code",
   "execution_count": 194,
   "metadata": {},
   "outputs": [],
   "source": [
    "temp = pd.DataFrame.from_dict(track_items)"
   ]
  },
  {
   "cell_type": "code",
   "execution_count": 195,
   "metadata": {},
   "outputs": [],
   "source": [
    "temp_df = clean_top_tracks(temp)"
   ]
  },
  {
   "cell_type": "code",
   "execution_count": 196,
   "metadata": {},
   "outputs": [
    {
     "output_type": "execute_result",
     "data": {
      "text/plain": [
       "50"
      ]
     },
     "metadata": {},
     "execution_count": 196
    }
   ],
   "source": [
    "len(temp_df)"
   ]
  },
  {
   "cell_type": "code",
   "execution_count": 197,
   "metadata": {},
   "outputs": [],
   "source": [
    "temp_df.to_csv(f'top_tracks_{term}.csv')"
   ]
  },
  {
   "cell_type": "code",
   "execution_count": 3,
   "metadata": {},
   "outputs": [],
   "source": [
    "playlists= ['229Jams',\n",
    " 'Lorem',\n",
    " 'RapCaviar',\n",
    " 'Discover Weekly',\n",
    " 'Hindi Songs - Mega Hit Mix - Bollywood songs - All time top 1000 songs',\n",
    " 'Coffee Table Jazz',\n",
    " 'Body Radio',\n",
    " 'Classical Upbeat Piano',\n",
    " 'Best of the Decade For You',\n",
    " 'Your Top Songs 2019',\n",
    " 'Hot Rhythmic',\n",
    " 'lofi hip hop music - beats to relax/study to',\n",
    " 'Late Night Jazz',\n",
    " 'Liked from Radio',\n",
    " 'Kimi No Nawa (Your Name) OST | RADWIMPS 💫 ',\n",
    " 'Moood🤙',\n",
    " 'All Out 10s',\n",
    " 'Hamilton!']"
   ]
  },
  {
   "cell_type": "code",
   "execution_count": 9,
   "metadata": {},
   "outputs": [
    {
     "output_type": "execute_result",
     "data": {
      "text/plain": [
       "[{'label': '229Jams', 'value': '229Jams'},\n",
       " {'label': 'Lorem', 'value': 'Lorem'},\n",
       " {'label': 'RapCaviar', 'value': 'RapCaviar'},\n",
       " {'label': 'Discover Weekly', 'value': 'Discover Weekly'},\n",
       " {'label': 'Hindi Songs - Mega Hit Mix - Bollywood songs - All time top 1000 songs',\n",
       "  'value': 'Hindi Songs - Mega Hit Mix - Bollywood songs - All time top 1000 songs'},\n",
       " {'label': 'Coffee Table Jazz', 'value': 'Coffee Table Jazz'},\n",
       " {'label': 'Body Radio', 'value': 'Body Radio'},\n",
       " {'label': 'Classical Upbeat Piano', 'value': 'Classical Upbeat Piano'},\n",
       " {'label': 'Best of the Decade For You',\n",
       "  'value': 'Best of the Decade For You'},\n",
       " {'label': 'Your Top Songs 2019', 'value': 'Your Top Songs 2019'},\n",
       " {'label': 'Hot Rhythmic', 'value': 'Hot Rhythmic'},\n",
       " {'label': 'lofi hip hop music - beats to relax/study to',\n",
       "  'value': 'lofi hip hop music - beats to relax/study to'},\n",
       " {'label': 'Late Night Jazz', 'value': 'Late Night Jazz'},\n",
       " {'label': 'Liked from Radio', 'value': 'Liked from Radio'},\n",
       " {'label': 'Kimi No Nawa (Your Name) OST | RADWIMPS 💫 ',\n",
       "  'value': 'Kimi No Nawa (Your Name) OST | RADWIMPS 💫 '},\n",
       " {'label': 'Moood🤙', 'value': 'Moood🤙'},\n",
       " {'label': 'All Out 10s', 'value': 'All Out 10s'},\n",
       " {'label': 'Hamilton!', 'value': 'Hamilton!'}]"
      ]
     },
     "metadata": {},
     "execution_count": 9
    }
   ],
   "source": [
    "playlists_kv = [dict([('label', k), ('value', k)]) for k in playlists]\n",
    "playlists_kv"
   ]
  },
  {
   "cell_type": "code",
   "execution_count": 149,
   "metadata": {},
   "outputs": [
    {
     "output_type": "execute_result",
     "data": {
      "text/plain": [
       "18"
      ]
     },
     "metadata": {},
     "execution_count": 149
    }
   ],
   "source": [
    "user_playlists = [i['name'] for i in spotify.current_user_playlists()['items']]\n",
    "len(user_playlists)"
   ]
  },
  {
   "cell_type": "code",
   "execution_count": 30,
   "metadata": {},
   "outputs": [],
   "source": [
    "playlist_name = 'Kimi No Nawa (Your Name) OST | RADWIMPS 💫 '"
   ]
  },
  {
   "cell_type": "code",
   "execution_count": 14,
   "metadata": {},
   "outputs": [],
   "source": [
    "# playlist_df.to_csv('playlist.csv')"
   ]
  },
  {
   "cell_type": "code",
   "execution_count": 15,
   "metadata": {},
   "outputs": [],
   "source": [
    "# spotify.current_user_recently_played?"
   ]
  },
  {
   "cell_type": "code",
   "execution_count": 16,
   "metadata": {},
   "outputs": [],
   "source": [
    "# spotify.current_user_recently_played()['items']"
   ]
  },
  {
   "cell_type": "code",
   "execution_count": 387,
   "metadata": {},
   "outputs": [],
   "source": [
    "# def get_features(sp, track_id):\n",
    "#     '''\n",
    "#     Returns a dictionary of features features that is used in KNN model\n",
    "    \n",
    "#     artist: Artist for which features are needed - str\n",
    "#     sp: Spotify Token - spotipy.client.Spotify\n",
    "#     features: List of features to return - List\n",
    "#     '''    \n",
    "#     d = dict()\n",
    "#     audio_features = sp.audio_features(track_id)[0]\n",
    "#     for feats in features:\n",
    "#         if feats not in d.keys():\n",
    "#             if feats in audio_features:\n",
    "#                 d[feats] = audio_features[feats]\n",
    "#     return d"
   ]
  },
  {
   "cell_type": "code",
   "execution_count": 396,
   "metadata": {},
   "outputs": [],
   "source": [
    "playlist_features = audio_playlist_features(playlist_df)"
   ]
  },
  {
   "cell_type": "code",
   "execution_count": 397,
   "metadata": {},
   "outputs": [],
   "source": [
    "# playlist_features.to_csv('playlist_features.csv')"
   ]
  },
  {
   "cell_type": "code",
   "execution_count": 33,
   "metadata": {},
   "outputs": [],
   "source": [
    "# spotify.current_user_saved_tracks(20)['items'][:2]"
   ]
  },
  {
   "cell_type": "code",
   "execution_count": 35,
   "metadata": {},
   "outputs": [
    {
     "output_type": "execute_result",
     "data": {
      "text/plain": [
       "['229Jams',\n",
       " 'Lorem',\n",
       " 'RapCaviar',\n",
       " 'Discover Weekly',\n",
       " 'Hindi Songs - Mega Hit Mix - Bollywood songs - All time top 1000 songs',\n",
       " 'Coffee Table Jazz',\n",
       " 'Body Radio',\n",
       " 'Classical Upbeat Piano',\n",
       " 'Best of the Decade For You',\n",
       " 'Your Top Songs 2019',\n",
       " 'Hot Rhythmic',\n",
       " 'lofi hip hop music - beats to relax/study to',\n",
       " 'Late Night Jazz',\n",
       " 'Liked from Radio',\n",
       " 'Kimi No Nawa (Your Name) OST | RADWIMPS 💫 ',\n",
       " 'Moood🤙',\n",
       " 'All Out 10s',\n",
       " 'Hamilton!']"
      ]
     },
     "metadata": {},
     "execution_count": 35
    }
   ],
   "source": [
    "user_playlists = [i['name'] for i in spotify.current_user_playlists()['items']]\n",
    "user_playlists"
   ]
  },
  {
   "cell_type": "code",
   "execution_count": 98,
   "metadata": {},
   "outputs": [],
   "source": []
  },
  {
   "cell_type": "code",
   "execution_count": 108,
   "metadata": {},
   "outputs": [
    {
     "output_type": "stream",
     "name": "stdout",
     "text": [
      "Lorem 178\n",
      "RapCaviar 50\n",
      "Discover Weekly 30\n",
      "Hindi Songs - Mega Hit Mix - Bollywood songs - All time top 1000 songs 813\n",
      "Coffee Table Jazz 149\n",
      "Body Radio 50\n",
      "Classical Upbeat Piano 12\n",
      "Best of the Decade For You 100\n",
      "Your Top Songs 2019 100\n",
      "Hot Rhythmic 83\n",
      "lofi hip hop music - beats to relax/study to 300\n",
      "Late Night Jazz 100\n",
      "Liked from Radio 5\n",
      "Kimi No Nawa (Your Name) OST | RADWIMPS 💫  41\n",
      "Moood🤙 21\n",
      "All Out 10s 150\n",
      "Hamilton! 36\n"
     ]
    }
   ],
   "source": [
    "final_df = pd.DataFrame()\n",
    "for playlist_name in user_playlists:\n",
    "    \n",
    "    filter_playlist = [i for i in spotify.current_user_playlists()['items'] if i['name']==playlist_name][0]\n",
    "    if filter_playlist['tracks']['total'] <5:\n",
    "        continue\n",
    "    print(playlist_name, filter_playlist['tracks']['total'])\n",
    "    filter_id = filter_playlist['id']\n",
    "    playlist_filter_id = spotify.playlist(filter_id)\n",
    "    playlist_tracks = playlist_filter_id['tracks']\n",
    "    list_tracks = [playlist_tracks['items'][i]['track'] for i in range(min(10, filter_playlist['tracks']['total']))]\n",
    "    temp = pd.DataFrame.from_dict(list_tracks)\n",
    "    # audio_playlist_features(clean_top_tracks(temp))\n",
    "    c_tracks = clean_top_tracks(temp)\n",
    "    audio_features = audio_playlist_features(c_tracks)\n",
    "    merged_inner = pd.merge(left=c_tracks, right=audio_features, left_on='id', right_on='id')\n",
    "    merged_inner['playlist_name'] = playlist_name\n",
    "    # Stack the DataFrames on top of each other\n",
    "    final_df = pd.concat([final_df, merged_inner], axis=0)"
   ]
  },
  {
   "cell_type": "code",
   "execution_count": null,
   "metadata": {},
   "outputs": [],
   "source": [
    "def get_tsne_csv(spotify, min_songs_per_playlist=5, k=10):\n",
    "    '''\n",
    "    '''\n",
    "    user_playlists = [i['name'] for i in spotify.current_user_playlists()['items']]\n",
    "    final_df = pd.DataFrame()\n",
    "    for playlist_name in user_playlists:\n",
    "        \n",
    "        filter_playlist = [i for i in spotify.current_user_playlists()['items'] if i['name']==playlist_name][0]\n",
    "        if filter_playlist['tracks']['total'] <min_songs_per_playlist:\n",
    "            continue\n",
    "        # print(playlist_name, filter_playlist['tracks']['total'])\n",
    "        filter_id = filter_playlist['id']\n",
    "        playlist_filter_id = spotify.playlist(filter_id)\n",
    "        playlist_tracks = playlist_filter_id['tracks']\n",
    "        list_tracks = [playlist_tracks['items'][i]['track'] for i in range(min(10, filter_playlist['tracks']['total']))]\n",
    "        temp = pd.DataFrame.from_dict(list_tracks)\n",
    "\n",
    "        c_tracks = clean_top_tracks(temp)\n",
    "        audio_features = audio_playlist_features(c_tracks)\n",
    "        merged_inner = pd.merge(left=c_tracks, right=audio_features, left_on='id', right_on='id')\n",
    "        merged_inner['playlist_name'] = playlist_name\n",
    "\n",
    "        # Stack the DataFrames on top of each other\n",
    "        final_df = pd.concat([final_df, merged_inner], axis=0)\n",
    "\n",
    "    # K Means - Predicted Genre feature \n",
    "    X = copy.deepcopy(final_df)\n",
    "    song_features = pd.DataFrame()\n",
    "    scaler = MinMaxScaler() # normalizer instance\n",
    "    for col in X.columns: \n",
    "        if col not in ['artists','predicted_genres', 'href', 'id', 'name', 'playlist_name',  'album_art', 'artist_names',]:\n",
    "            scaler.fit(X[[col]])\n",
    "            song_features[col] = scaler.transform(X[col].values.reshape(-1,1)).ravel() \n",
    "\n",
    "    km = KMeans(n_clusters=k)\n",
    "    predicted_genres = km.fit_predict(song_features)\n",
    "    X['predicted_genres'] = predicted_genres\n",
    "\n",
    "    return X"
   ]
  },
  {
   "cell_type": "code",
   "execution_count": 109,
   "metadata": {},
   "outputs": [
    {
     "output_type": "execute_result",
     "data": {
      "text/plain": [
       "165"
      ]
     },
     "metadata": {},
     "execution_count": 109
    }
   ],
   "source": [
    "len(final_df)"
   ]
  },
  {
   "cell_type": "code",
   "execution_count": 110,
   "metadata": {},
   "outputs": [
    {
     "output_type": "execute_result",
     "data": {
      "text/plain": [
       "   explicit                                               href  \\\n",
       "0      True  https://api.spotify.com/v1/tracks/1QL7nSDZCwZM...   \n",
       "1     False  https://api.spotify.com/v1/tracks/26tMEDbutzry...   \n",
       "2     False  https://api.spotify.com/v1/tracks/6xpDh0dXrkVp...   \n",
       "3      True  https://api.spotify.com/v1/tracks/0h7Vz5MQyJjO...   \n",
       "4     False  https://api.spotify.com/v1/tracks/3f9Xt5Bcu1Qo...   \n",
       "\n",
       "                       id                                               name  \\\n",
       "0  1QL7nSDZCwZMnbisV4KOXt  t r a n s p a r e n t s o u l feat. Travis Barker   \n",
       "1  26tMEDbutzryy8RyHX8HX4                                 From These Heights   \n",
       "2  6xpDh0dXrkVp0Po1qrHUd8                                        Adam's Song   \n",
       "3  0h7Vz5MQyJjO4ZnMW7HTjV                                      Off the Rails   \n",
       "4  3f9Xt5Bcu1QooplxlTPEtb                        Ur Gonna Wish U Believed Me   \n",
       "\n",
       "   popularity                                          album_art  \\\n",
       "0          75  https://i.scdn.co/image/ab67616d0000b273e76af6...   \n",
       "1          48  https://i.scdn.co/image/ab67616d0000b273336b84...   \n",
       "2          70  https://i.scdn.co/image/ab67616d0000b2736da502...   \n",
       "3          45  https://i.scdn.co/image/ab67616d0000b273cc66c7...   \n",
       "4          51  https://i.scdn.co/image/ab67616d0000b273caed83...   \n",
       "\n",
       "            artist_names  danceability  energy  key  loudness  mode  \\\n",
       "0  WILLOW, Travis Barker         0.390   0.830   11    -5.201     0   \n",
       "1           Jelani Aryeh         0.758   0.903    4    -3.909     1   \n",
       "2              blink-182         0.520   0.775    0    -5.803     1   \n",
       "3                Wallice         0.476   0.798    1    -4.208     1   \n",
       "4               Cavetown         0.568   0.453    4    -7.453     1   \n",
       "\n",
       "   speechiness  acousticness  instrumentalness  liveness  valence    tempo  \\\n",
       "0       0.0563       0.00210          0.000000     0.156    0.191   90.021   \n",
       "1       0.0314       0.00949          0.000007     0.628    0.749  125.002   \n",
       "2       0.0348       0.03400          0.000000     0.364    0.382  136.028   \n",
       "3       0.0394       0.05810          0.001800     0.276    0.738  168.179   \n",
       "4       0.0258       0.62600          0.022400     0.135    0.224  134.996   \n",
       "\n",
       "  playlist_name  \n",
       "0         Lorem  \n",
       "1         Lorem  \n",
       "2         Lorem  \n",
       "3         Lorem  \n",
       "4         Lorem  "
      ],
      "text/html": "<div>\n<style scoped>\n    .dataframe tbody tr th:only-of-type {\n        vertical-align: middle;\n    }\n\n    .dataframe tbody tr th {\n        vertical-align: top;\n    }\n\n    .dataframe thead th {\n        text-align: right;\n    }\n</style>\n<table border=\"1\" class=\"dataframe\">\n  <thead>\n    <tr style=\"text-align: right;\">\n      <th></th>\n      <th>explicit</th>\n      <th>href</th>\n      <th>id</th>\n      <th>name</th>\n      <th>popularity</th>\n      <th>album_art</th>\n      <th>artist_names</th>\n      <th>danceability</th>\n      <th>energy</th>\n      <th>key</th>\n      <th>loudness</th>\n      <th>mode</th>\n      <th>speechiness</th>\n      <th>acousticness</th>\n      <th>instrumentalness</th>\n      <th>liveness</th>\n      <th>valence</th>\n      <th>tempo</th>\n      <th>playlist_name</th>\n    </tr>\n  </thead>\n  <tbody>\n    <tr>\n      <th>0</th>\n      <td>True</td>\n      <td>https://api.spotify.com/v1/tracks/1QL7nSDZCwZM...</td>\n      <td>1QL7nSDZCwZMnbisV4KOXt</td>\n      <td>t r a n s p a r e n t s o u l feat. Travis Barker</td>\n      <td>75</td>\n      <td>https://i.scdn.co/image/ab67616d0000b273e76af6...</td>\n      <td>WILLOW, Travis Barker</td>\n      <td>0.390</td>\n      <td>0.830</td>\n      <td>11</td>\n      <td>-5.201</td>\n      <td>0</td>\n      <td>0.0563</td>\n      <td>0.00210</td>\n      <td>0.000000</td>\n      <td>0.156</td>\n      <td>0.191</td>\n      <td>90.021</td>\n      <td>Lorem</td>\n    </tr>\n    <tr>\n      <th>1</th>\n      <td>False</td>\n      <td>https://api.spotify.com/v1/tracks/26tMEDbutzry...</td>\n      <td>26tMEDbutzryy8RyHX8HX4</td>\n      <td>From These Heights</td>\n      <td>48</td>\n      <td>https://i.scdn.co/image/ab67616d0000b273336b84...</td>\n      <td>Jelani Aryeh</td>\n      <td>0.758</td>\n      <td>0.903</td>\n      <td>4</td>\n      <td>-3.909</td>\n      <td>1</td>\n      <td>0.0314</td>\n      <td>0.00949</td>\n      <td>0.000007</td>\n      <td>0.628</td>\n      <td>0.749</td>\n      <td>125.002</td>\n      <td>Lorem</td>\n    </tr>\n    <tr>\n      <th>2</th>\n      <td>False</td>\n      <td>https://api.spotify.com/v1/tracks/6xpDh0dXrkVp...</td>\n      <td>6xpDh0dXrkVp0Po1qrHUd8</td>\n      <td>Adam's Song</td>\n      <td>70</td>\n      <td>https://i.scdn.co/image/ab67616d0000b2736da502...</td>\n      <td>blink-182</td>\n      <td>0.520</td>\n      <td>0.775</td>\n      <td>0</td>\n      <td>-5.803</td>\n      <td>1</td>\n      <td>0.0348</td>\n      <td>0.03400</td>\n      <td>0.000000</td>\n      <td>0.364</td>\n      <td>0.382</td>\n      <td>136.028</td>\n      <td>Lorem</td>\n    </tr>\n    <tr>\n      <th>3</th>\n      <td>True</td>\n      <td>https://api.spotify.com/v1/tracks/0h7Vz5MQyJjO...</td>\n      <td>0h7Vz5MQyJjO4ZnMW7HTjV</td>\n      <td>Off the Rails</td>\n      <td>45</td>\n      <td>https://i.scdn.co/image/ab67616d0000b273cc66c7...</td>\n      <td>Wallice</td>\n      <td>0.476</td>\n      <td>0.798</td>\n      <td>1</td>\n      <td>-4.208</td>\n      <td>1</td>\n      <td>0.0394</td>\n      <td>0.05810</td>\n      <td>0.001800</td>\n      <td>0.276</td>\n      <td>0.738</td>\n      <td>168.179</td>\n      <td>Lorem</td>\n    </tr>\n    <tr>\n      <th>4</th>\n      <td>False</td>\n      <td>https://api.spotify.com/v1/tracks/3f9Xt5Bcu1Qo...</td>\n      <td>3f9Xt5Bcu1QooplxlTPEtb</td>\n      <td>Ur Gonna Wish U Believed Me</td>\n      <td>51</td>\n      <td>https://i.scdn.co/image/ab67616d0000b273caed83...</td>\n      <td>Cavetown</td>\n      <td>0.568</td>\n      <td>0.453</td>\n      <td>4</td>\n      <td>-7.453</td>\n      <td>1</td>\n      <td>0.0258</td>\n      <td>0.62600</td>\n      <td>0.022400</td>\n      <td>0.135</td>\n      <td>0.224</td>\n      <td>134.996</td>\n      <td>Lorem</td>\n    </tr>\n  </tbody>\n</table>\n</div>"
     },
     "metadata": {},
     "execution_count": 110
    }
   ],
   "source": [
    "final_df.head()"
   ]
  },
  {
   "cell_type": "code",
   "execution_count": 118,
   "metadata": {},
   "outputs": [],
   "source": [
    "# from sklearn.metrics import mean_squared_error as mse\n",
    "from sklearn.preprocessing import MinMaxScaler\n",
    "from sklearn.cluster import KMeans \n",
    "from sklearn.manifold import TSNE\n",
    "from sklearn.decomposition import PCA\n",
    "import joblib\n",
    "import plotly.graph_objects as go\n",
    "import copy\n",
    "import matplotlib.pyplot as plt\n",
    "\n",
    "%matplotlib inline\n"
   ]
  },
  {
   "cell_type": "code",
   "execution_count": 135,
   "metadata": {},
   "outputs": [],
   "source": [
    "# Preprocessing data\n",
    "X = copy.deepcopy(final_df)\n",
    "song_features = pd.DataFrame()\n",
    "scaler = MinMaxScaler() # normalizer instance"
   ]
  },
  {
   "cell_type": "code",
   "execution_count": 136,
   "metadata": {},
   "outputs": [
    {
     "output_type": "execute_result",
     "data": {
      "text/plain": [
       "Index(['explicit', 'href', 'id', 'name', 'popularity', 'album_art',\n",
       "       'artist_names', 'danceability', 'energy', 'key', 'loudness', 'mode',\n",
       "       'speechiness', 'acousticness', 'instrumentalness', 'liveness',\n",
       "       'valence', 'tempo', 'playlist_name'],\n",
       "      dtype='object')"
      ]
     },
     "metadata": {},
     "execution_count": 136
    }
   ],
   "source": [
    "final_df.columns"
   ]
  },
  {
   "cell_type": "code",
   "execution_count": 137,
   "metadata": {},
   "outputs": [],
   "source": [
    "for col in X.columns: \n",
    "    if col not in ['artists','predicted_genres', 'href', 'id', 'name', 'playlist_name',  'album_art', 'artist_names',]:\n",
    "        scaler.fit(X[[col]])\n",
    "        song_features[col] = scaler.transform(X[col].values.reshape(-1,1)).ravel() "
   ]
  },
  {
   "cell_type": "code",
   "execution_count": 148,
   "metadata": {},
   "outputs": [],
   "source": [
    "# # KMeans instance\n",
    "# km = KMeans()\n",
    "# k_rng = range(1,100)  # k value\n",
    "# sse = [] # sse value for each k\n",
    "# for i in k_rng:\n",
    "#     km = KMeans(n_clusters = i)\n",
    "#     km.fit(song_features.sample(100))\n",
    "#     sse.append(km.inertia_) # calculating sse\n",
    "# plt.plot(k_rng,sse)\n",
    "# plt.xlabel('K value')\n",
    "# plt.ylabel('SSE Error')\n",
    "# plt.title('Best K value')\n",
    "# plt.show()"
   ]
  },
  {
   "cell_type": "code",
   "execution_count": 139,
   "metadata": {},
   "outputs": [],
   "source": [
    "# Train for k = 10\n",
    "np.random.seed(3)\n",
    "k = 10\n",
    "km = KMeans(n_clusters=k)\n",
    "predicted_genres = km.fit_predict(song_features)"
   ]
  },
  {
   "cell_type": "code",
   "execution_count": 140,
   "metadata": {},
   "outputs": [],
   "source": [
    "song_features['predicted_genres'] = predicted_genres"
   ]
  },
  {
   "cell_type": "code",
   "execution_count": 144,
   "metadata": {},
   "outputs": [
    {
     "output_type": "execute_result",
     "data": {
      "text/plain": [
       "((165, 19), (165, 14))"
      ]
     },
     "metadata": {},
     "execution_count": 144
    }
   ],
   "source": [
    "X.shape, song_features.shape"
   ]
  },
  {
   "cell_type": "code",
   "execution_count": 146,
   "metadata": {},
   "outputs": [],
   "source": [
    "X['predicted_genres'] = predicted_genres"
   ]
  },
  {
   "cell_type": "code",
   "execution_count": 147,
   "metadata": {},
   "outputs": [
    {
     "output_type": "execute_result",
     "data": {
      "text/plain": [
       "    explicit                                               href  \\\n",
       "0       True  https://api.spotify.com/v1/tracks/1QL7nSDZCwZM...   \n",
       "1      False  https://api.spotify.com/v1/tracks/26tMEDbutzry...   \n",
       "2      False  https://api.spotify.com/v1/tracks/6xpDh0dXrkVp...   \n",
       "3       True  https://api.spotify.com/v1/tracks/0h7Vz5MQyJjO...   \n",
       "4      False  https://api.spotify.com/v1/tracks/3f9Xt5Bcu1Qo...   \n",
       "..       ...                                                ...   \n",
       "5       True  https://api.spotify.com/v1/tracks/0LpHC9mhPAQC...   \n",
       "6       True  https://api.spotify.com/v1/tracks/0clwOjS9p20c...   \n",
       "7      False  https://api.spotify.com/v1/tracks/6SHI6STEW51c...   \n",
       "8       True  https://api.spotify.com/v1/tracks/1CzeuSrm71wH...   \n",
       "9       True  https://api.spotify.com/v1/tracks/27MB0qHaYAZi...   \n",
       "\n",
       "                        id                                               name  \\\n",
       "0   1QL7nSDZCwZMnbisV4KOXt  t r a n s p a r e n t s o u l feat. Travis Barker   \n",
       "1   26tMEDbutzryy8RyHX8HX4                                 From These Heights   \n",
       "2   6xpDh0dXrkVp0Po1qrHUd8                                        Adam's Song   \n",
       "3   0h7Vz5MQyJjO4ZnMW7HTjV                                      Off the Rails   \n",
       "4   3f9Xt5Bcu1QooplxlTPEtb                        Ur Gonna Wish U Believed Me   \n",
       "..                     ...                                                ...   \n",
       "5   0LpHC9mhPAQC98IjXZIrif                               The Election of 1800   \n",
       "6   0clwOjS9p20cEIQkuB7bEP       An Open Letter (feat. Shockwave) - Interlude   \n",
       "7   6SHI6STEW51cQkAXBRpLNj                              Your Obedient Servant   \n",
       "8   1CzeuSrm71wHP9qsjg7p3F                     The Story of Tonight - Reprise   \n",
       "9   27MB0qHaYAZiTlwg25js1Y                                         Stay Alive   \n",
       "\n",
       "    popularity                                          album_art  \\\n",
       "0           75  https://i.scdn.co/image/ab67616d0000b273e76af6...   \n",
       "1           48  https://i.scdn.co/image/ab67616d0000b273336b84...   \n",
       "2           70  https://i.scdn.co/image/ab67616d0000b2736da502...   \n",
       "3           45  https://i.scdn.co/image/ab67616d0000b273cc66c7...   \n",
       "4           51  https://i.scdn.co/image/ab67616d0000b273caed83...   \n",
       "..         ...                                                ...   \n",
       "5           62  https://i.scdn.co/image/ab67616d0000b273d72fb5...   \n",
       "6           44  https://i.scdn.co/image/ab67616d0000b27382288d...   \n",
       "7           62  https://i.scdn.co/image/ab67616d0000b273d72fb5...   \n",
       "8           66  https://i.scdn.co/image/ab67616d0000b273d72fb5...   \n",
       "9           65  https://i.scdn.co/image/ab67616d0000b273d72fb5...   \n",
       "\n",
       "                                         artist_names  danceability  energy  \\\n",
       "0                               WILLOW, Travis Barker         0.390   0.830   \n",
       "1                                        Jelani Aryeh         0.758   0.903   \n",
       "2                                           blink-182         0.520   0.775   \n",
       "3                                             Wallice         0.476   0.798   \n",
       "4                                            Cavetown         0.568   0.453   \n",
       "..                                                ...           ...     ...   \n",
       "5   Daveed Diggs, Okieriete Onaodowan, Leslie Odom...         0.731   0.420   \n",
       "6                                   Watsky, Shockwave         0.728   0.875   \n",
       "7   Leslie Odom Jr., Lin-Manuel Miranda, Original ...         0.736   0.370   \n",
       "8   Anthony Ramos, Okieriete Onaodowan, Daveed Dig...         0.724   0.305   \n",
       "9                  Original Broadway Cast of Hamilton         0.723   0.415   \n",
       "\n",
       "    key  loudness  mode  speechiness  acousticness  instrumentalness  \\\n",
       "0    11    -5.201     0       0.0563       0.00210          0.000000   \n",
       "1     4    -3.909     1       0.0314       0.00949          0.000007   \n",
       "2     0    -5.803     1       0.0348       0.03400          0.000000   \n",
       "3     1    -4.208     1       0.0394       0.05810          0.001800   \n",
       "4     4    -7.453     1       0.0258       0.62600          0.022400   \n",
       "..  ...       ...   ...          ...           ...               ...   \n",
       "5    10   -10.199     1       0.4620       0.31900          0.000000   \n",
       "6    11    -7.828     0       0.8520       0.47800          0.000000   \n",
       "7     5   -11.072     1       0.5020       0.29300          0.000000   \n",
       "8     5   -12.763     0       0.2570       0.68000          0.000000   \n",
       "9     0   -10.394     0       0.3950       0.47100          0.000000   \n",
       "\n",
       "    liveness  valence    tempo playlist_name  predicted_genres  \n",
       "0     0.1560    0.191   90.021         Lorem                 3  \n",
       "1     0.6280    0.749  125.002         Lorem                 7  \n",
       "2     0.3640    0.382  136.028         Lorem                 7  \n",
       "3     0.2760    0.738  168.179         Lorem                 0  \n",
       "4     0.1350    0.224  134.996         Lorem                 9  \n",
       "..       ...      ...      ...           ...               ...  \n",
       "5     0.3060    0.645   67.426     Hamilton!                 5  \n",
       "6     0.6310    0.591   75.279     Hamilton!                 3  \n",
       "7     0.0420    0.619  165.908     Hamilton!                 1  \n",
       "8     0.1280    0.594   81.874     Hamilton!                 3  \n",
       "9     0.0995    0.581  159.650     Hamilton!                 3  \n",
       "\n",
       "[165 rows x 20 columns]"
      ],
      "text/html": "<div>\n<style scoped>\n    .dataframe tbody tr th:only-of-type {\n        vertical-align: middle;\n    }\n\n    .dataframe tbody tr th {\n        vertical-align: top;\n    }\n\n    .dataframe thead th {\n        text-align: right;\n    }\n</style>\n<table border=\"1\" class=\"dataframe\">\n  <thead>\n    <tr style=\"text-align: right;\">\n      <th></th>\n      <th>explicit</th>\n      <th>href</th>\n      <th>id</th>\n      <th>name</th>\n      <th>popularity</th>\n      <th>album_art</th>\n      <th>artist_names</th>\n      <th>danceability</th>\n      <th>energy</th>\n      <th>key</th>\n      <th>loudness</th>\n      <th>mode</th>\n      <th>speechiness</th>\n      <th>acousticness</th>\n      <th>instrumentalness</th>\n      <th>liveness</th>\n      <th>valence</th>\n      <th>tempo</th>\n      <th>playlist_name</th>\n      <th>predicted_genres</th>\n    </tr>\n  </thead>\n  <tbody>\n    <tr>\n      <th>0</th>\n      <td>True</td>\n      <td>https://api.spotify.com/v1/tracks/1QL7nSDZCwZM...</td>\n      <td>1QL7nSDZCwZMnbisV4KOXt</td>\n      <td>t r a n s p a r e n t s o u l feat. Travis Barker</td>\n      <td>75</td>\n      <td>https://i.scdn.co/image/ab67616d0000b273e76af6...</td>\n      <td>WILLOW, Travis Barker</td>\n      <td>0.390</td>\n      <td>0.830</td>\n      <td>11</td>\n      <td>-5.201</td>\n      <td>0</td>\n      <td>0.0563</td>\n      <td>0.00210</td>\n      <td>0.000000</td>\n      <td>0.1560</td>\n      <td>0.191</td>\n      <td>90.021</td>\n      <td>Lorem</td>\n      <td>3</td>\n    </tr>\n    <tr>\n      <th>1</th>\n      <td>False</td>\n      <td>https://api.spotify.com/v1/tracks/26tMEDbutzry...</td>\n      <td>26tMEDbutzryy8RyHX8HX4</td>\n      <td>From These Heights</td>\n      <td>48</td>\n      <td>https://i.scdn.co/image/ab67616d0000b273336b84...</td>\n      <td>Jelani Aryeh</td>\n      <td>0.758</td>\n      <td>0.903</td>\n      <td>4</td>\n      <td>-3.909</td>\n      <td>1</td>\n      <td>0.0314</td>\n      <td>0.00949</td>\n      <td>0.000007</td>\n      <td>0.6280</td>\n      <td>0.749</td>\n      <td>125.002</td>\n      <td>Lorem</td>\n      <td>7</td>\n    </tr>\n    <tr>\n      <th>2</th>\n      <td>False</td>\n      <td>https://api.spotify.com/v1/tracks/6xpDh0dXrkVp...</td>\n      <td>6xpDh0dXrkVp0Po1qrHUd8</td>\n      <td>Adam's Song</td>\n      <td>70</td>\n      <td>https://i.scdn.co/image/ab67616d0000b2736da502...</td>\n      <td>blink-182</td>\n      <td>0.520</td>\n      <td>0.775</td>\n      <td>0</td>\n      <td>-5.803</td>\n      <td>1</td>\n      <td>0.0348</td>\n      <td>0.03400</td>\n      <td>0.000000</td>\n      <td>0.3640</td>\n      <td>0.382</td>\n      <td>136.028</td>\n      <td>Lorem</td>\n      <td>7</td>\n    </tr>\n    <tr>\n      <th>3</th>\n      <td>True</td>\n      <td>https://api.spotify.com/v1/tracks/0h7Vz5MQyJjO...</td>\n      <td>0h7Vz5MQyJjO4ZnMW7HTjV</td>\n      <td>Off the Rails</td>\n      <td>45</td>\n      <td>https://i.scdn.co/image/ab67616d0000b273cc66c7...</td>\n      <td>Wallice</td>\n      <td>0.476</td>\n      <td>0.798</td>\n      <td>1</td>\n      <td>-4.208</td>\n      <td>1</td>\n      <td>0.0394</td>\n      <td>0.05810</td>\n      <td>0.001800</td>\n      <td>0.2760</td>\n      <td>0.738</td>\n      <td>168.179</td>\n      <td>Lorem</td>\n      <td>0</td>\n    </tr>\n    <tr>\n      <th>4</th>\n      <td>False</td>\n      <td>https://api.spotify.com/v1/tracks/3f9Xt5Bcu1Qo...</td>\n      <td>3f9Xt5Bcu1QooplxlTPEtb</td>\n      <td>Ur Gonna Wish U Believed Me</td>\n      <td>51</td>\n      <td>https://i.scdn.co/image/ab67616d0000b273caed83...</td>\n      <td>Cavetown</td>\n      <td>0.568</td>\n      <td>0.453</td>\n      <td>4</td>\n      <td>-7.453</td>\n      <td>1</td>\n      <td>0.0258</td>\n      <td>0.62600</td>\n      <td>0.022400</td>\n      <td>0.1350</td>\n      <td>0.224</td>\n      <td>134.996</td>\n      <td>Lorem</td>\n      <td>9</td>\n    </tr>\n    <tr>\n      <th>...</th>\n      <td>...</td>\n      <td>...</td>\n      <td>...</td>\n      <td>...</td>\n      <td>...</td>\n      <td>...</td>\n      <td>...</td>\n      <td>...</td>\n      <td>...</td>\n      <td>...</td>\n      <td>...</td>\n      <td>...</td>\n      <td>...</td>\n      <td>...</td>\n      <td>...</td>\n      <td>...</td>\n      <td>...</td>\n      <td>...</td>\n      <td>...</td>\n      <td>...</td>\n    </tr>\n    <tr>\n      <th>5</th>\n      <td>True</td>\n      <td>https://api.spotify.com/v1/tracks/0LpHC9mhPAQC...</td>\n      <td>0LpHC9mhPAQC98IjXZIrif</td>\n      <td>The Election of 1800</td>\n      <td>62</td>\n      <td>https://i.scdn.co/image/ab67616d0000b273d72fb5...</td>\n      <td>Daveed Diggs, Okieriete Onaodowan, Leslie Odom...</td>\n      <td>0.731</td>\n      <td>0.420</td>\n      <td>10</td>\n      <td>-10.199</td>\n      <td>1</td>\n      <td>0.4620</td>\n      <td>0.31900</td>\n      <td>0.000000</td>\n      <td>0.3060</td>\n      <td>0.645</td>\n      <td>67.426</td>\n      <td>Hamilton!</td>\n      <td>5</td>\n    </tr>\n    <tr>\n      <th>6</th>\n      <td>True</td>\n      <td>https://api.spotify.com/v1/tracks/0clwOjS9p20c...</td>\n      <td>0clwOjS9p20cEIQkuB7bEP</td>\n      <td>An Open Letter (feat. Shockwave) - Interlude</td>\n      <td>44</td>\n      <td>https://i.scdn.co/image/ab67616d0000b27382288d...</td>\n      <td>Watsky, Shockwave</td>\n      <td>0.728</td>\n      <td>0.875</td>\n      <td>11</td>\n      <td>-7.828</td>\n      <td>0</td>\n      <td>0.8520</td>\n      <td>0.47800</td>\n      <td>0.000000</td>\n      <td>0.6310</td>\n      <td>0.591</td>\n      <td>75.279</td>\n      <td>Hamilton!</td>\n      <td>3</td>\n    </tr>\n    <tr>\n      <th>7</th>\n      <td>False</td>\n      <td>https://api.spotify.com/v1/tracks/6SHI6STEW51c...</td>\n      <td>6SHI6STEW51cQkAXBRpLNj</td>\n      <td>Your Obedient Servant</td>\n      <td>62</td>\n      <td>https://i.scdn.co/image/ab67616d0000b273d72fb5...</td>\n      <td>Leslie Odom Jr., Lin-Manuel Miranda, Original ...</td>\n      <td>0.736</td>\n      <td>0.370</td>\n      <td>5</td>\n      <td>-11.072</td>\n      <td>1</td>\n      <td>0.5020</td>\n      <td>0.29300</td>\n      <td>0.000000</td>\n      <td>0.0420</td>\n      <td>0.619</td>\n      <td>165.908</td>\n      <td>Hamilton!</td>\n      <td>1</td>\n    </tr>\n    <tr>\n      <th>8</th>\n      <td>True</td>\n      <td>https://api.spotify.com/v1/tracks/1CzeuSrm71wH...</td>\n      <td>1CzeuSrm71wHP9qsjg7p3F</td>\n      <td>The Story of Tonight - Reprise</td>\n      <td>66</td>\n      <td>https://i.scdn.co/image/ab67616d0000b273d72fb5...</td>\n      <td>Anthony Ramos, Okieriete Onaodowan, Daveed Dig...</td>\n      <td>0.724</td>\n      <td>0.305</td>\n      <td>5</td>\n      <td>-12.763</td>\n      <td>0</td>\n      <td>0.2570</td>\n      <td>0.68000</td>\n      <td>0.000000</td>\n      <td>0.1280</td>\n      <td>0.594</td>\n      <td>81.874</td>\n      <td>Hamilton!</td>\n      <td>3</td>\n    </tr>\n    <tr>\n      <th>9</th>\n      <td>True</td>\n      <td>https://api.spotify.com/v1/tracks/27MB0qHaYAZi...</td>\n      <td>27MB0qHaYAZiTlwg25js1Y</td>\n      <td>Stay Alive</td>\n      <td>65</td>\n      <td>https://i.scdn.co/image/ab67616d0000b273d72fb5...</td>\n      <td>Original Broadway Cast of Hamilton</td>\n      <td>0.723</td>\n      <td>0.415</td>\n      <td>0</td>\n      <td>-10.394</td>\n      <td>0</td>\n      <td>0.3950</td>\n      <td>0.47100</td>\n      <td>0.000000</td>\n      <td>0.0995</td>\n      <td>0.581</td>\n      <td>159.650</td>\n      <td>Hamilton!</td>\n      <td>3</td>\n    </tr>\n  </tbody>\n</table>\n<p>165 rows × 20 columns</p>\n</div>"
     },
     "metadata": {},
     "execution_count": 147
    }
   ],
   "source": [
    "X"
   ]
  }
 ]
}
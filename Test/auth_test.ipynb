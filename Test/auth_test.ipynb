{
 "metadata": {
  "language_info": {
   "codemirror_mode": {
    "name": "ipython",
    "version": 3
   },
   "file_extension": ".py",
   "mimetype": "text/x-python",
   "name": "python",
   "nbconvert_exporter": "python",
   "pygments_lexer": "ipython3",
   "version": "3.8.8-final"
  },
  "orig_nbformat": 2,
  "kernelspec": {
   "name": "ece229",
   "display_name": "ece229",
   "language": "python"
  }
 },
 "nbformat": 4,
 "nbformat_minor": 2,
 "cells": [
  {
   "cell_type": "code",
   "execution_count": 5,
   "metadata": {},
   "outputs": [],
   "source": [
    "import spotipy\n",
    "from dotenv import load_dotenv\n",
    "import pandas as pd\n",
    "import numpy as np"
   ]
  },
  {
   "cell_type": "code",
   "execution_count": 4,
   "metadata": {},
   "outputs": [
    {
     "output_type": "execute_result",
     "data": {
      "text/plain": [
       "True"
      ]
     },
     "metadata": {},
     "execution_count": 4
    }
   ],
   "source": [
    "load_dotenv()"
   ]
  },
  {
   "cell_type": "code",
   "execution_count": 9,
   "metadata": {},
   "outputs": [],
   "source": [
    "scope = ['ugc-image-upload'\n",
    "        ,'user-read-recently-played'\n",
    "        ,'user-top-read'\n",
    "        ,'user-read-playback-position'\n",
    "        ,'user-read-playback-state'\n",
    "        ,'user-modify-playback-state'\n",
    "        ,'user-read-currently-playing'\n",
    "        ,'app-remote-control'\n",
    "        ,'streaming'\n",
    "        ,'playlist-modify-public'\n",
    "        ,'playlist-modify-private'\n",
    "        ,'playlist-read-private'\n",
    "        ,'playlist-read-collaborative'\n",
    "        ,'user-follow-modify'\n",
    "        ,'user-follow-read'\n",
    "        ,'user-library-modify'\n",
    "        ,'user-library-read'\n",
    "        ,'user-read-email'\n",
    "        ,'user-read-private'\n",
    "        ]\n",
    "\n",
    "\n",
    "auth_manager = spotipy.oauth2.SpotifyOAuth(scope=scope,\n",
    "                                            show_dialog=True)\n",
    "\n",
    "# auth_manager.get_access_token(request.args.get(\"code\"))\n",
    "auth_url = auth_manager.get_authorize_url()\n",
    "spotify = spotipy.Spotify(auth_manager=auth_manager)\n"
   ]
  },
  {
   "cell_type": "code",
   "execution_count": 292,
   "metadata": {},
   "outputs": [],
   "source": [
    "artists_items = spotify.current_user_top_artists(limit=100, time_range='long_term')['items']"
   ]
  },
  {
   "cell_type": "code",
   "execution_count": 116,
   "metadata": {},
   "outputs": [],
   "source": [
    "temp = pd.DataFrame.from_dict(artists_items)"
   ]
  },
  {
   "cell_type": "code",
   "execution_count": 113,
   "metadata": {},
   "outputs": [],
   "source": [
    "def clean_top_artists(items_df):\n",
    "    '''\n",
    "        \n",
    "    '''\n",
    "\n",
    "    items_df['external_urls'] = temp['external_urls'].map(lambda x: x['spotify'])\n",
    "    items_df['images'] = temp['images'].map(lambda x: x[0]['url'])\n",
    "    items_df['followers'] = temp['followers'].map(lambda x: x['total'])\n",
    "\n",
    "    return items_df"
   ]
  },
  {
   "cell_type": "code",
   "execution_count": 169,
   "metadata": {},
   "outputs": [],
   "source": [
    "def clean_top_tracks(tracks_df):\n",
    "    '''\n",
    "        \n",
    "    '''\n",
    "    tracks_df['album_name'] = temp['album'].map(lambda x:x['name'])\n",
    "    tracks_df['album_art'] = temp['album'].map(lambda x:x['images'][0]['url'])\n",
    "    tracks_df['album_href'] = temp['album'].map(lambda x:x['href'])\n",
    "    tracks_df['album_release_date'] = temp['album'].map(lambda x:x['release_date'])\n",
    "\n",
    "    tracks_df['artist_names'] = temp['artists'].map(lambda x: ', '.join([a['name'] for a in x]))\n",
    "\n",
    "    drop_cols = ['album', 'artists', 'available_markets', 'disc_number', 'external_ids', 'is_local', 'external_urls', 'track_number']\n",
    "    tracks_df = tracks_df.drop(drop_cols, axis=1)\n",
    "\n",
    "    return tracks_df"
   ]
  },
  {
   "cell_type": "code",
   "execution_count": 371,
   "metadata": {},
   "outputs": [],
   "source": [
    "def clean_playlist(user_playlists, playlist):\n",
    "    '''\n",
    "\n",
    "    '''\n",
    "\n",
    "    filter_playlist = [i for i in spotify.current_user_playlists()['items'] if i['name']==playlist_name][0]\n",
    "    filter_id = filter_playlist['id']\n",
    "    playlist_filter_id = spotify.playlist(filter_id)\n",
    "    playlist_tracks = playlist_filter_id['tracks']\n",
    "    list_tracks = [playlist_tracks['items'][i]['track'] for i in range(filter_playlist['tracks']['total'])]\n",
    "    temp = pd.DataFrame.from_dict(list_tracks)\n",
    "    temp_df = clean_top_tracks(temp)\n",
    "\n",
    "    return temp_df"
   ]
  },
  {
   "cell_type": "code",
   "execution_count": 392,
   "metadata": {},
   "outputs": [],
   "source": [
    "def audio_playlist_features(playlist_df):\n",
    "    '''\n",
    "\n",
    "    '''\n",
    "    return pd.DataFrame.from_dict([spotify.audio_features(playlist_df['id'][i])[0] for i in range(len(playlist_df))])\n",
    "     "
   ]
  },
  {
   "cell_type": "code",
   "execution_count": 192,
   "metadata": {},
   "outputs": [],
   "source": [
    "term = 'short'"
   ]
  },
  {
   "cell_type": "code",
   "execution_count": 193,
   "metadata": {},
   "outputs": [],
   "source": [
    "track_items =spotify.current_user_top_tracks(limit=100, time_range=f'{term}_term')['items']"
   ]
  },
  {
   "cell_type": "code",
   "execution_count": 194,
   "metadata": {},
   "outputs": [],
   "source": [
    "temp = pd.DataFrame.from_dict(track_items)"
   ]
  },
  {
   "cell_type": "code",
   "execution_count": 195,
   "metadata": {},
   "outputs": [],
   "source": [
    "temp_df = clean_top_tracks(temp)"
   ]
  },
  {
   "cell_type": "code",
   "execution_count": 196,
   "metadata": {},
   "outputs": [
    {
     "output_type": "execute_result",
     "data": {
      "text/plain": [
       "50"
      ]
     },
     "metadata": {},
     "execution_count": 196
    }
   ],
   "source": [
    "len(temp_df)"
   ]
  },
  {
   "cell_type": "code",
   "execution_count": 197,
   "metadata": {},
   "outputs": [],
   "source": [
    "temp_df.to_csv(f'top_tracks_{term}.csv')"
   ]
  },
  {
   "cell_type": "code",
   "execution_count": 372,
   "metadata": {},
   "outputs": [
    {
     "output_type": "execute_result",
     "data": {
      "text/plain": [
       "['229Jams',\n",
       " 'Lorem',\n",
       " 'RapCaviar',\n",
       " 'Discover Weekly',\n",
       " 'Hindi Songs - Mega Hit Mix - Bollywood songs - All time top 1000 songs',\n",
       " 'Coffee Table Jazz',\n",
       " 'Body Radio',\n",
       " 'Classical Upbeat Piano',\n",
       " 'Best of the Decade For You',\n",
       " 'Your Top Songs 2019',\n",
       " 'Hot Rhythmic',\n",
       " 'lofi hip hop music - beats to relax/study to',\n",
       " 'Late Night Jazz',\n",
       " 'Liked from Radio',\n",
       " 'Kimi No Nawa (Your Name) OST | RADWIMPS 💫 ',\n",
       " 'Moood🤙',\n",
       " 'All Out 10s',\n",
       " 'Hamilton!']"
      ]
     },
     "metadata": {},
     "execution_count": 372
    }
   ],
   "source": [
    "user_playlists = [i['name'] for i in spotify.current_user_playlists()['items']]\n",
    "user_playlists"
   ]
  },
  {
   "cell_type": "code",
   "execution_count": 373,
   "metadata": {},
   "outputs": [],
   "source": [
    "playlist_name = 'Kimi No Nawa (Your Name) OST | RADWIMPS 💫 '"
   ]
  },
  {
   "cell_type": "code",
   "execution_count": 375,
   "metadata": {},
   "outputs": [],
   "source": [
    "playlist_df =  clean_playlist(user_playlists, playlist_name)"
   ]
  },
  {
   "cell_type": "code",
   "execution_count": 394,
   "metadata": {},
   "outputs": [
    {
     "output_type": "execute_result",
     "data": {
      "text/plain": [
       "   duration_ms  episode  explicit  \\\n",
       "0       534120    False     False   \n",
       "1       185229    False     False   \n",
       "2       130266    False     False   \n",
       "3       201601    False     False   \n",
       "4        67266    False     False   \n",
       "\n",
       "                                                href                      id  \\\n",
       "0  https://api.spotify.com/v1/tracks/0b4a1iklB8w8...  0b4a1iklB8w8gsE38nzyEx   \n",
       "1  https://api.spotify.com/v1/tracks/0BWtbkbX1hzJ...  0BWtbkbX1hzJf4OgeEz2Tn   \n",
       "2  https://api.spotify.com/v1/tracks/39ZbD2BuYmJu...  39ZbD2BuYmJudCHFankou3   \n",
       "3  https://api.spotify.com/v1/tracks/45wVHKdU30J7...  45wVHKdU30J7YGd7xQu2zU   \n",
       "4  https://api.spotify.com/v1/tracks/5lAJ5nWaJQgl...  5lAJ5nWaJQglDcVvcCCBSn   \n",
       "\n",
       "                                                name  popularity  \\\n",
       "0                            Sparkle - Movie Version           0   \n",
       "1  Kataware Doki (From \"Kimi No Nawa\") - Instrume...          36   \n",
       "2                       Dream lantern - English ver.          35   \n",
       "3  Nandemonaiya (From \"Kimi No Nawa\") - Instrumental          35   \n",
       "4                                 Mitsuha No Tsugaku           0   \n",
       "\n",
       "                                         preview_url  track   type  \\\n",
       "0                                               None   True  track   \n",
       "1  https://p.scdn.co/mp3-preview/6011cd0208e3d140...   True  track   \n",
       "2                                               None   True  track   \n",
       "3  https://p.scdn.co/mp3-preview/6d41cb5aeed63e7c...   True  track   \n",
       "4                                               None   True  track   \n",
       "\n",
       "                                    uri  \\\n",
       "0  spotify:track:0b4a1iklB8w8gsE38nzyEx   \n",
       "1  spotify:track:0BWtbkbX1hzJf4OgeEz2Tn   \n",
       "2  spotify:track:39ZbD2BuYmJudCHFankou3   \n",
       "3  spotify:track:45wVHKdU30J7YGd7xQu2zU   \n",
       "4  spotify:track:5lAJ5nWaJQglDcVvcCCBSn   \n",
       "\n",
       "                                          album_name  \\\n",
       "0                                         Your Name.   \n",
       "1  Kataware Doki (From \"Kimi No Nawa\") [Instrumen...   \n",
       "2  Your name. (deluxe edition / Original Motion P...   \n",
       "3  Nandemonaiya (From \"Kimi No Nawa\") [Instrumental]   \n",
       "4                                         Your Name.   \n",
       "\n",
       "                                           album_art  \\\n",
       "0  https://i.scdn.co/image/ab67616d0000b273222e0f...   \n",
       "1  https://i.scdn.co/image/ab67616d0000b273572452...   \n",
       "2  https://i.scdn.co/image/ab67616d0000b273036b85...   \n",
       "3  https://i.scdn.co/image/ab67616d0000b2737734c1...   \n",
       "4  https://i.scdn.co/image/ab67616d0000b273222e0f...   \n",
       "\n",
       "                                          album_href album_release_date  \\\n",
       "0  https://api.spotify.com/v1/albums/3qNUgzsX6eVS...         2016-08-24   \n",
       "1  https://api.spotify.com/v1/albums/7HVdRlt7eQpI...         2020-07-25   \n",
       "2  https://api.spotify.com/v1/albums/5BWM0Xyb6p59...         2018-03-10   \n",
       "3  https://api.spotify.com/v1/albums/2RHMcsLWdf3G...         2020-07-08   \n",
       "4  https://api.spotify.com/v1/albums/3qNUgzsX6eVS...         2016-08-24   \n",
       "\n",
       "  artist_names  \n",
       "0     RADWIMPS  \n",
       "1   Edward Ong  \n",
       "2     RADWIMPS  \n",
       "3   Edward Ong  \n",
       "4     RADWIMPS  "
      ],
      "text/html": "<div>\n<style scoped>\n    .dataframe tbody tr th:only-of-type {\n        vertical-align: middle;\n    }\n\n    .dataframe tbody tr th {\n        vertical-align: top;\n    }\n\n    .dataframe thead th {\n        text-align: right;\n    }\n</style>\n<table border=\"1\" class=\"dataframe\">\n  <thead>\n    <tr style=\"text-align: right;\">\n      <th></th>\n      <th>duration_ms</th>\n      <th>episode</th>\n      <th>explicit</th>\n      <th>href</th>\n      <th>id</th>\n      <th>name</th>\n      <th>popularity</th>\n      <th>preview_url</th>\n      <th>track</th>\n      <th>type</th>\n      <th>uri</th>\n      <th>album_name</th>\n      <th>album_art</th>\n      <th>album_href</th>\n      <th>album_release_date</th>\n      <th>artist_names</th>\n    </tr>\n  </thead>\n  <tbody>\n    <tr>\n      <th>0</th>\n      <td>534120</td>\n      <td>False</td>\n      <td>False</td>\n      <td>https://api.spotify.com/v1/tracks/0b4a1iklB8w8...</td>\n      <td>0b4a1iklB8w8gsE38nzyEx</td>\n      <td>Sparkle - Movie Version</td>\n      <td>0</td>\n      <td>None</td>\n      <td>True</td>\n      <td>track</td>\n      <td>spotify:track:0b4a1iklB8w8gsE38nzyEx</td>\n      <td>Your Name.</td>\n      <td>https://i.scdn.co/image/ab67616d0000b273222e0f...</td>\n      <td>https://api.spotify.com/v1/albums/3qNUgzsX6eVS...</td>\n      <td>2016-08-24</td>\n      <td>RADWIMPS</td>\n    </tr>\n    <tr>\n      <th>1</th>\n      <td>185229</td>\n      <td>False</td>\n      <td>False</td>\n      <td>https://api.spotify.com/v1/tracks/0BWtbkbX1hzJ...</td>\n      <td>0BWtbkbX1hzJf4OgeEz2Tn</td>\n      <td>Kataware Doki (From \"Kimi No Nawa\") - Instrume...</td>\n      <td>36</td>\n      <td>https://p.scdn.co/mp3-preview/6011cd0208e3d140...</td>\n      <td>True</td>\n      <td>track</td>\n      <td>spotify:track:0BWtbkbX1hzJf4OgeEz2Tn</td>\n      <td>Kataware Doki (From \"Kimi No Nawa\") [Instrumen...</td>\n      <td>https://i.scdn.co/image/ab67616d0000b273572452...</td>\n      <td>https://api.spotify.com/v1/albums/7HVdRlt7eQpI...</td>\n      <td>2020-07-25</td>\n      <td>Edward Ong</td>\n    </tr>\n    <tr>\n      <th>2</th>\n      <td>130266</td>\n      <td>False</td>\n      <td>False</td>\n      <td>https://api.spotify.com/v1/tracks/39ZbD2BuYmJu...</td>\n      <td>39ZbD2BuYmJudCHFankou3</td>\n      <td>Dream lantern - English ver.</td>\n      <td>35</td>\n      <td>None</td>\n      <td>True</td>\n      <td>track</td>\n      <td>spotify:track:39ZbD2BuYmJudCHFankou3</td>\n      <td>Your name. (deluxe edition / Original Motion P...</td>\n      <td>https://i.scdn.co/image/ab67616d0000b273036b85...</td>\n      <td>https://api.spotify.com/v1/albums/5BWM0Xyb6p59...</td>\n      <td>2018-03-10</td>\n      <td>RADWIMPS</td>\n    </tr>\n    <tr>\n      <th>3</th>\n      <td>201601</td>\n      <td>False</td>\n      <td>False</td>\n      <td>https://api.spotify.com/v1/tracks/45wVHKdU30J7...</td>\n      <td>45wVHKdU30J7YGd7xQu2zU</td>\n      <td>Nandemonaiya (From \"Kimi No Nawa\") - Instrumental</td>\n      <td>35</td>\n      <td>https://p.scdn.co/mp3-preview/6d41cb5aeed63e7c...</td>\n      <td>True</td>\n      <td>track</td>\n      <td>spotify:track:45wVHKdU30J7YGd7xQu2zU</td>\n      <td>Nandemonaiya (From \"Kimi No Nawa\") [Instrumental]</td>\n      <td>https://i.scdn.co/image/ab67616d0000b2737734c1...</td>\n      <td>https://api.spotify.com/v1/albums/2RHMcsLWdf3G...</td>\n      <td>2020-07-08</td>\n      <td>Edward Ong</td>\n    </tr>\n    <tr>\n      <th>4</th>\n      <td>67266</td>\n      <td>False</td>\n      <td>False</td>\n      <td>https://api.spotify.com/v1/tracks/5lAJ5nWaJQgl...</td>\n      <td>5lAJ5nWaJQglDcVvcCCBSn</td>\n      <td>Mitsuha No Tsugaku</td>\n      <td>0</td>\n      <td>None</td>\n      <td>True</td>\n      <td>track</td>\n      <td>spotify:track:5lAJ5nWaJQglDcVvcCCBSn</td>\n      <td>Your Name.</td>\n      <td>https://i.scdn.co/image/ab67616d0000b273222e0f...</td>\n      <td>https://api.spotify.com/v1/albums/3qNUgzsX6eVS...</td>\n      <td>2016-08-24</td>\n      <td>RADWIMPS</td>\n    </tr>\n  </tbody>\n</table>\n</div>"
     },
     "metadata": {},
     "execution_count": 394
    }
   ],
   "source": [
    "playlist_df.head()"
   ]
  },
  {
   "cell_type": "code",
   "execution_count": 395,
   "metadata": {},
   "outputs": [],
   "source": [
    "playlist_df.to_csv('playlist.csv')"
   ]
  },
  {
   "cell_type": "code",
   "execution_count": 387,
   "metadata": {},
   "outputs": [],
   "source": [
    "# def get_features(sp, track_id):\n",
    "#     '''\n",
    "#     Returns a dictionary of features features that is used in KNN model\n",
    "    \n",
    "#     artist: Artist for which features are needed - str\n",
    "#     sp: Spotify Token - spotipy.client.Spotify\n",
    "#     features: List of features to return - List\n",
    "#     '''    \n",
    "#     d = dict()\n",
    "#     audio_features = sp.audio_features(track_id)[0]\n",
    "#     for feats in features:\n",
    "#         if feats not in d.keys():\n",
    "#             if feats in audio_features:\n",
    "#                 d[feats] = audio_features[feats]\n",
    "#     return d"
   ]
  },
  {
   "cell_type": "code",
   "execution_count": 396,
   "metadata": {},
   "outputs": [],
   "source": [
    "playlist_features = audio_playlist_features(playlist_df)"
   ]
  },
  {
   "cell_type": "code",
   "execution_count": 397,
   "metadata": {},
   "outputs": [],
   "source": [
    "playlist_features.to_csv('playlist_features.csv')"
   ]
  }
 ]
}